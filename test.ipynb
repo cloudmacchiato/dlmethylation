{
 "cells": [
  {
   "cell_type": "code",
   "execution_count": 1,
   "id": "85eedf7f",
   "metadata": {},
   "outputs": [],
   "source": [
    "import os, torch\n",
    "import numpy as np\n",
    "import pandas as pd\n",
    "from torch import nn\n",
    "import torch.nn.functional as F\n",
    "from sklearn.preprocessing import MinMaxScaler\n",
    "import matplotlib.pyplot as plt"
   ]
  },
  {
   "cell_type": "code",
   "execution_count": 2,
   "id": "86269923-dabc-41d8-92a2-ff607a9d3de7",
   "metadata": {
    "tags": []
   },
   "outputs": [
    {
     "name": "stdout",
     "output_type": "stream",
     "text": [
      ">> Pathway Data : GO\n",
      "pathway matrix shape :  torch.Size([5440, 20493])\n",
      "num_pathway :  5440\n",
      ">> Methylation Data: gene.average.beta.by.intensity.csv\n",
      "sample_dim :  194\n",
      "input_size (number of genes):  20493\n",
      "patient list :  ['methylated-15-07-006-9', 'methylated-15-04-005-6', 'methylated-15-02-021-8', 'methylated-15-05-030-6', 'methylated-15-08-032-9', 'methylated-15-05-019-0']\n",
      "feature list :  ['TSPY4', 'TTTY14', 'TMSB4Y', 'TBL1Y', 'RPS4Y2', 'EIF1AY']\n"
     ]
    }
   ],
   "source": [
    "from dataPre import *"
   ]
  },
  {
   "cell_type": "markdown",
   "id": "1c8955cb",
   "metadata": {},
   "source": [
    "## Training (check the device first!)"
   ]
  },
  {
   "cell_type": "code",
   "execution_count": 19,
   "id": "082fcb3d",
   "metadata": {},
   "outputs": [],
   "source": [
    "trainArgs = {}\n",
    "trainArgs['x_data'] = expression\n",
    "trainArgs['y_data'] = status\n",
    "trainArgs['pathway_info'] = pathway_info\n",
    "# trainArgs['num_fc_list'] = [32, 64, 128]\n",
    "# trainArgs['lr_list'] = [0.0001,0.0005,0.001]\n",
    "trainArgs['num_fc_list'] = [128]\n",
    "trainArgs['lr_list'] = [0.0005]\n",
    "trainArgs['device'] = '0'\n",
    "trainArgs['seed'] = 0\n",
    "trainArgs['pathway'] = pathway\n",
    "trainArgs['tissue'] = tissue\n",
    "trainArgs['filename'] = 'result.csv'"
   ]
  },
  {
   "cell_type": "code",
   "execution_count": 20,
   "id": "c904f1f0",
   "metadata": {},
   "outputs": [],
   "source": [
    "from train import *"
   ]
  },
  {
   "cell_type": "code",
   "execution_count": 21,
   "id": "cc7bd102",
   "metadata": {},
   "outputs": [],
   "source": [
    "train = train_kfold(trainArgs)"
   ]
  },
  {
   "cell_type": "code",
   "execution_count": 22,
   "id": "8e58332b",
   "metadata": {},
   "outputs": [
    {
     "name": "stdout",
     "output_type": "stream",
     "text": [
      "****************************************************************************\n",
      "Fold 1 / 10\n",
      "****************************************************************************\n",
      "Validation AUC increased (0.000000 --> 0.610000).  Saving model ...\n",
      "****************************************************************************\n",
      "Fold 2 / 10\n",
      "****************************************************************************\n",
      "Validation AUC increased (0.000000 --> 0.530000).  Saving model ...\n",
      "Validation AUC increased (0.530000 --> 0.590000).  Saving model ...\n",
      "Validation AUC increased (0.590000 --> 0.600000).  Saving model ...\n",
      "Validation AUC increased (0.600000 --> 0.600000).  Saving model ...\n",
      "Validation AUC increased (0.600000 --> 0.630000).  Saving model ...\n",
      "Validation AUC increased (0.630000 --> 0.640000).  Saving model ...\n",
      "****************************************************************************\n",
      "Fold 3 / 10\n",
      "****************************************************************************\n",
      "Validation AUC increased (0.000000 --> 0.340000).  Saving model ...\n",
      "Validation AUC increased (0.340000 --> 0.370000).  Saving model ...\n",
      "Validation AUC increased (0.370000 --> 0.380000).  Saving model ...\n",
      "Validation AUC increased (0.380000 --> 0.500000).  Saving model ...\n",
      "Validation AUC increased (0.500000 --> 0.540000).  Saving model ...\n",
      "Validation AUC increased (0.540000 --> 0.580000).  Saving model ...\n",
      "****************************************************************************\n",
      "Fold 4 / 10\n",
      "****************************************************************************\n",
      "Validation AUC increased (0.000000 --> 0.490000).  Saving model ...\n",
      "Validation AUC increased (0.490000 --> 0.560000).  Saving model ...\n",
      "Validation AUC increased (0.560000 --> 0.570000).  Saving model ...\n",
      "****************************************************************************\n",
      "Fold 5 / 10\n",
      "****************************************************************************\n",
      "Validation AUC increased (0.000000 --> 0.390000).  Saving model ...\n",
      "Validation AUC increased (0.390000 --> 0.430000).  Saving model ...\n",
      "Validation AUC increased (0.430000 --> 0.440000).  Saving model ...\n",
      "****************************************************************************\n",
      "Fold 6 / 10\n",
      "****************************************************************************\n",
      "Validation AUC increased (0.000000 --> 0.530000).  Saving model ...\n",
      "Validation AUC increased (0.530000 --> 0.570000).  Saving model ...\n",
      "Validation AUC increased (0.570000 --> 0.590000).  Saving model ...\n",
      "Validation AUC increased (0.590000 --> 0.610000).  Saving model ...\n",
      "Validation AUC increased (0.610000 --> 0.650000).  Saving model ...\n",
      "Validation AUC increased (0.650000 --> 0.680000).  Saving model ...\n",
      "Validation AUC increased (0.680000 --> 0.690000).  Saving model ...\n",
      "Validation AUC increased (0.690000 --> 0.710000).  Saving model ...\n",
      "Validation AUC increased (0.710000 --> 0.770000).  Saving model ...\n",
      "****************************************************************************\n",
      "Fold 7 / 10\n",
      "****************************************************************************\n",
      "Validation AUC increased (0.000000 --> 0.340000).  Saving model ...\n",
      "Validation AUC increased (0.340000 --> 0.370000).  Saving model ...\n",
      "Validation AUC increased (0.370000 --> 0.430000).  Saving model ...\n",
      "Validation AUC increased (0.430000 --> 0.450000).  Saving model ...\n",
      "Validation AUC increased (0.450000 --> 0.460000).  Saving model ...\n",
      "Validation AUC increased (0.460000 --> 0.530000).  Saving model ...\n",
      "Validation AUC increased (0.530000 --> 0.560000).  Saving model ...\n",
      "Validation AUC increased (0.560000 --> 0.570000).  Saving model ...\n",
      "Validation AUC increased (0.570000 --> 0.580000).  Saving model ...\n",
      "****************************************************************************\n",
      "Fold 8 / 10\n",
      "****************************************************************************\n",
      "Validation AUC increased (0.000000 --> 0.490000).  Saving model ...\n",
      "Validation AUC increased (0.490000 --> 0.560000).  Saving model ...\n",
      "Validation AUC increased (0.560000 --> 0.670000).  Saving model ...\n",
      "Validation AUC increased (0.670000 --> 0.690000).  Saving model ...\n",
      "****************************************************************************\n",
      "Fold 9 / 10\n",
      "****************************************************************************\n",
      "Validation AUC increased (0.000000 --> 0.260000).  Saving model ...\n",
      "Validation AUC increased (0.260000 --> 0.280000).  Saving model ...\n",
      "Validation AUC increased (0.280000 --> 0.350000).  Saving model ...\n",
      "Validation AUC increased (0.350000 --> 0.390000).  Saving model ...\n",
      "Validation AUC increased (0.390000 --> 0.450000).  Saving model ...\n",
      "Validation AUC increased (0.450000 --> 0.540000).  Saving model ...\n",
      "****************************************************************************\n",
      "Fold 10 / 10\n",
      "****************************************************************************\n",
      "Validation AUC increased (0.000000 --> 0.300000).  Saving model ...\n",
      "Validation AUC increased (0.300000 --> 0.400000).  Saving model ...\n",
      "Validation AUC increased (0.400000 --> 0.470000).  Saving model ...\n"
     ]
    }
   ],
   "source": [
    "result = train.kfold()"
   ]
  },
  {
   "cell_type": "code",
   "execution_count": 7,
   "id": "00ecdf23",
   "metadata": {},
   "outputs": [
    {
     "data": {
      "text/html": [
       "<div>\n",
       "<style scoped>\n",
       "    .dataframe tbody tr th:only-of-type {\n",
       "        vertical-align: middle;\n",
       "    }\n",
       "\n",
       "    .dataframe tbody tr th {\n",
       "        vertical-align: top;\n",
       "    }\n",
       "\n",
       "    .dataframe thead th {\n",
       "        text-align: right;\n",
       "    }\n",
       "</style>\n",
       "<table border=\"1\" class=\"dataframe\">\n",
       "  <thead>\n",
       "    <tr style=\"text-align: right;\">\n",
       "      <th></th>\n",
       "      <th>hyperparam</th>\n",
       "      <th>Fold</th>\n",
       "      <th>Valid_AUC</th>\n",
       "      <th>Valid_Precision</th>\n",
       "      <th>Valid_Recall</th>\n",
       "      <th>Valid_F1</th>\n",
       "      <th>Test_AUC</th>\n",
       "      <th>Test_Precision</th>\n",
       "      <th>Test_Recall</th>\n",
       "      <th>Test_F1</th>\n",
       "    </tr>\n",
       "  </thead>\n",
       "  <tbody>\n",
       "    <tr>\n",
       "      <th>0</th>\n",
       "      <td>lr:0.0001 / num_fc:32</td>\n",
       "      <td>0</td>\n",
       "      <td>0.72</td>\n",
       "      <td>0.600000</td>\n",
       "      <td>0.9</td>\n",
       "      <td>0.720000</td>\n",
       "      <td>0.690000</td>\n",
       "      <td>0.700000</td>\n",
       "      <td>0.700000</td>\n",
       "      <td>0.700000</td>\n",
       "    </tr>\n",
       "    <tr>\n",
       "      <th>1</th>\n",
       "      <td>lr:0.0001 / num_fc:32</td>\n",
       "      <td>1</td>\n",
       "      <td>0.64</td>\n",
       "      <td>0.777778</td>\n",
       "      <td>0.7</td>\n",
       "      <td>0.736842</td>\n",
       "      <td>0.590000</td>\n",
       "      <td>0.588235</td>\n",
       "      <td>1.000000</td>\n",
       "      <td>0.740741</td>\n",
       "    </tr>\n",
       "    <tr>\n",
       "      <th>2</th>\n",
       "      <td>lr:0.0001 / num_fc:32</td>\n",
       "      <td>2</td>\n",
       "      <td>0.52</td>\n",
       "      <td>0.526316</td>\n",
       "      <td>1.0</td>\n",
       "      <td>0.689655</td>\n",
       "      <td>0.680000</td>\n",
       "      <td>0.625000</td>\n",
       "      <td>1.000000</td>\n",
       "      <td>0.769231</td>\n",
       "    </tr>\n",
       "    <tr>\n",
       "      <th>3</th>\n",
       "      <td>lr:0.0001 / num_fc:32</td>\n",
       "      <td>3</td>\n",
       "      <td>0.72</td>\n",
       "      <td>0.625000</td>\n",
       "      <td>1.0</td>\n",
       "      <td>0.769231</td>\n",
       "      <td>0.660000</td>\n",
       "      <td>0.750000</td>\n",
       "      <td>0.900000</td>\n",
       "      <td>0.818182</td>\n",
       "    </tr>\n",
       "    <tr>\n",
       "      <th>4</th>\n",
       "      <td>lr:0.0001 / num_fc:32</td>\n",
       "      <td>4</td>\n",
       "      <td>0.46</td>\n",
       "      <td>0.500000</td>\n",
       "      <td>1.0</td>\n",
       "      <td>0.666667</td>\n",
       "      <td>0.433333</td>\n",
       "      <td>0.473684</td>\n",
       "      <td>1.000000</td>\n",
       "      <td>0.642857</td>\n",
       "    </tr>\n",
       "    <tr>\n",
       "      <th>5</th>\n",
       "      <td>lr:0.0001 / num_fc:32</td>\n",
       "      <td>5</td>\n",
       "      <td>0.70</td>\n",
       "      <td>0.727273</td>\n",
       "      <td>0.8</td>\n",
       "      <td>0.761905</td>\n",
       "      <td>0.622222</td>\n",
       "      <td>0.615385</td>\n",
       "      <td>0.888889</td>\n",
       "      <td>0.727273</td>\n",
       "    </tr>\n",
       "    <tr>\n",
       "      <th>6</th>\n",
       "      <td>lr:0.0001 / num_fc:32</td>\n",
       "      <td>6</td>\n",
       "      <td>0.52</td>\n",
       "      <td>0.529412</td>\n",
       "      <td>0.9</td>\n",
       "      <td>0.666667</td>\n",
       "      <td>0.355556</td>\n",
       "      <td>0.473684</td>\n",
       "      <td>1.000000</td>\n",
       "      <td>0.642857</td>\n",
       "    </tr>\n",
       "    <tr>\n",
       "      <th>7</th>\n",
       "      <td>lr:0.0001 / num_fc:32</td>\n",
       "      <td>7</td>\n",
       "      <td>0.46</td>\n",
       "      <td>0.526316</td>\n",
       "      <td>1.0</td>\n",
       "      <td>0.689655</td>\n",
       "      <td>0.500000</td>\n",
       "      <td>0.555556</td>\n",
       "      <td>1.000000</td>\n",
       "      <td>0.714286</td>\n",
       "    </tr>\n",
       "    <tr>\n",
       "      <th>8</th>\n",
       "      <td>lr:0.0001 / num_fc:32</td>\n",
       "      <td>8</td>\n",
       "      <td>0.48</td>\n",
       "      <td>0.562500</td>\n",
       "      <td>0.9</td>\n",
       "      <td>0.692308</td>\n",
       "      <td>0.222222</td>\n",
       "      <td>0.526316</td>\n",
       "      <td>1.000000</td>\n",
       "      <td>0.689655</td>\n",
       "    </tr>\n",
       "    <tr>\n",
       "      <th>9</th>\n",
       "      <td>lr:0.0001 / num_fc:32</td>\n",
       "      <td>9</td>\n",
       "      <td>0.43</td>\n",
       "      <td>0.562500</td>\n",
       "      <td>0.9</td>\n",
       "      <td>0.692308</td>\n",
       "      <td>0.533333</td>\n",
       "      <td>0.555556</td>\n",
       "      <td>1.000000</td>\n",
       "      <td>0.714286</td>\n",
       "    </tr>\n",
       "  </tbody>\n",
       "</table>\n",
       "</div>"
      ],
      "text/plain": [
       "              hyperparam Fold  Valid_AUC  Valid_Precision  Valid_Recall  \\\n",
       "0  lr:0.0001 / num_fc:32    0       0.72         0.600000           0.9   \n",
       "1  lr:0.0001 / num_fc:32    1       0.64         0.777778           0.7   \n",
       "2  lr:0.0001 / num_fc:32    2       0.52         0.526316           1.0   \n",
       "3  lr:0.0001 / num_fc:32    3       0.72         0.625000           1.0   \n",
       "4  lr:0.0001 / num_fc:32    4       0.46         0.500000           1.0   \n",
       "5  lr:0.0001 / num_fc:32    5       0.70         0.727273           0.8   \n",
       "6  lr:0.0001 / num_fc:32    6       0.52         0.529412           0.9   \n",
       "7  lr:0.0001 / num_fc:32    7       0.46         0.526316           1.0   \n",
       "8  lr:0.0001 / num_fc:32    8       0.48         0.562500           0.9   \n",
       "9  lr:0.0001 / num_fc:32    9       0.43         0.562500           0.9   \n",
       "\n",
       "   Valid_F1  Test_AUC  Test_Precision  Test_Recall   Test_F1  \n",
       "0  0.720000  0.690000        0.700000     0.700000  0.700000  \n",
       "1  0.736842  0.590000        0.588235     1.000000  0.740741  \n",
       "2  0.689655  0.680000        0.625000     1.000000  0.769231  \n",
       "3  0.769231  0.660000        0.750000     0.900000  0.818182  \n",
       "4  0.666667  0.433333        0.473684     1.000000  0.642857  \n",
       "5  0.761905  0.622222        0.615385     0.888889  0.727273  \n",
       "6  0.666667  0.355556        0.473684     1.000000  0.642857  \n",
       "7  0.689655  0.500000        0.555556     1.000000  0.714286  \n",
       "8  0.692308  0.222222        0.526316     1.000000  0.689655  \n",
       "9  0.692308  0.533333        0.555556     1.000000  0.714286  "
      ]
     },
     "execution_count": 7,
     "metadata": {},
     "output_type": "execute_result"
    }
   ],
   "source": [
    "result"
   ]
  },
  {
   "cell_type": "code",
   "execution_count": null,
   "id": "320c2eec",
   "metadata": {
    "tags": []
   },
   "outputs": [],
   "source": [
    "result.to_csv(trainArgs['filename'], mode='w')"
   ]
  },
  {
   "cell_type": "code",
   "execution_count": 8,
   "id": "7fd20c35-74e8-4546-93e4-da9023a95495",
   "metadata": {
    "tags": []
   },
   "outputs": [
    {
     "name": "stdout",
     "output_type": "stream",
     "text": [
      "****************************************************************************\n",
      ">>[Test Result] avg.auc : 0.5287, f1 : 0.7159\n",
      "\n"
     ]
    }
   ],
   "source": [
    "idx = result.groupby(['Fold'])['Valid_AUC'].transform(max) == result['Valid_AUC']\n",
    "result = result[idx]\n",
    "print('****************************************************************************')\n",
    "print(\">>[Test Result] avg.auc : {:.4f}, f1 : {:.4f}\\n\".format(result['Test_AUC'].mean(), result['Test_F1'].mean()))"
   ]
  },
  {
   "cell_type": "code",
   "execution_count": 23,
   "id": "6014f3fc-4fd9-457a-93d0-e25f50e7e8cf",
   "metadata": {},
   "outputs": [
    {
     "name": "stdout",
     "output_type": "stream",
     "text": [
      "****************************************************************************\n",
      ">>[Test Result] avg.auc : 0.4960, f1 : 0.6944\n",
      "\n"
     ]
    }
   ],
   "source": [
    "idx = result.groupby(['Fold'])['Valid_AUC'].transform(max) == result['Valid_AUC']\n",
    "result = result[idx]\n",
    "print('****************************************************************************')\n",
    "print(\">>[Test Result] avg.auc : {:.4f}, f1 : {:.4f}\\n\".format(result['Test_AUC'].mean(), result['Test_F1'].mean()))"
   ]
  },
  {
   "cell_type": "code",
   "execution_count": null,
   "id": "256d4cc7-a0e6-4fec-99cb-ee31ad45c9ce",
   "metadata": {},
   "outputs": [],
   "source": []
  }
 ],
 "metadata": {
  "kernelspec": {
   "display_name": "torch2",
   "language": "python",
   "name": "torch"
  },
  "language_info": {
   "codemirror_mode": {
    "name": "ipython",
    "version": 3
   },
   "file_extension": ".py",
   "mimetype": "text/x-python",
   "name": "python",
   "nbconvert_exporter": "python",
   "pygments_lexer": "ipython3",
   "version": "3.8.17"
  }
 },
 "nbformat": 4,
 "nbformat_minor": 5
}
