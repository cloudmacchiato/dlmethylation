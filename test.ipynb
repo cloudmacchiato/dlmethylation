{
 "cells": [
  {
   "cell_type": "code",
   "execution_count": 1,
   "id": "85eedf7f",
   "metadata": {},
   "outputs": [],
   "source": [
    "import os, torch\n",
    "import numpy as np\n",
    "import pandas as pd\n",
    "from torch import nn\n",
    "import torch.nn.functional as F\n",
    "from sklearn.preprocessing import MinMaxScaler\n",
    "import matplotlib.pyplot as plt"
   ]
  },
  {
   "cell_type": "code",
   "execution_count": 2,
   "id": "188119e2",
   "metadata": {},
   "outputs": [],
   "source": [
    "import os\n",
    "os.environ[\"CUDA_VISIBLE_DEVICES\"] = \"0\""
   ]
  },
  {
   "cell_type": "code",
   "execution_count": 3,
   "id": "fb4ef932",
   "metadata": {},
   "outputs": [
    {
     "name": "stdout",
     "output_type": "stream",
     "text": [
      "11.7\n"
     ]
    }
   ],
   "source": [
    "print(torch.version.cuda)"
   ]
  },
  {
   "cell_type": "code",
   "execution_count": 4,
   "id": "c666acd2",
   "metadata": {},
   "outputs": [
    {
     "data": {
      "text/plain": [
       "True"
      ]
     },
     "execution_count": 4,
     "metadata": {},
     "output_type": "execute_result"
    }
   ],
   "source": [
    "torch.cuda.is_available()"
   ]
  },
  {
   "cell_type": "markdown",
   "id": "71eadd7f",
   "metadata": {},
   "source": [
    "## Data Preperation"
   ]
  },
  {
   "cell_type": "code",
   "execution_count": 2,
   "id": "aaecc009",
   "metadata": {},
   "outputs": [],
   "source": [
    "def preprocessing (path, tissue):\n",
    "    ### pathway datasets\n",
    "    if (path == \"GO\"):\n",
    "        pathway = pd.read_csv(\"./data/pathway_go_bp.csv\", header=0)\n",
    "    elif (path == \"KEGG\"):\n",
    "        pathway = pd.read_csv(\"./data/pathway_kegg.csv\", header=0)       \n",
    "    print(\">> Pathway Data :\",path)\n",
    "\n",
    "    pathway_info = pathway.iloc[:,1:]\n",
    "    pathway_info = pathway_info.values\n",
    "    pathway_info = np.transpose (pathway_info)\n",
    "    pathway_info = torch.FloatTensor(pathway_info)\n",
    "    print(\"pathway matrix shape : \",pathway_info.shape)\n",
    "    print(\"num_pathway : \",pathway_info.shape[0])\n",
    "\n",
    "    ### expression datasets\n",
    "    print(\">> Expression Data :\",tissue)\n",
    "    if (tissue == \"brain\"):\n",
    "        data = pd.read_csv(\"./data/brain_expression.csv\", header=0)\n",
    "\n",
    "    expression = data.iloc[:,1:]\n",
    "    gene = data.iloc[:,1]\n",
    "    expression = expression.values\n",
    "    expression = np.transpose(expression)\n",
    "\n",
    "    scaler = MinMaxScaler()\n",
    "    scaler = scaler.fit(expression)\n",
    "    expression = scaler.transform(expression)\n",
    "\n",
    "    sample_dim = expression.shape[0]\n",
    "    input_dim = expression.shape[1]\n",
    "\n",
    "    #print dimension of sample and number of genes\n",
    "    print(\"sample_dim : \",sample_dim)\n",
    "    print(\"input_size (number of genes): \",input_dim)\n",
    "    \n",
    "    if (tissue == \"brain\"):\n",
    "        status = np.append(np.zeros((157)),np.ones((310)),axis = 0)\n",
    "        status = status.reshape(467,1)\n",
    "\n",
    "    patient = list(data.iloc[:,1:].columns.values.tolist()) \n",
    "    print(\"patient list : \",patient[1:6])\n",
    "    \n",
    "    return pathway_info, expression, status"
   ]
  },
  {
   "cell_type": "code",
   "execution_count": 3,
   "id": "8cb1ad3a",
   "metadata": {},
   "outputs": [
    {
     "name": "stdout",
     "output_type": "stream",
     "text": [
      ">> Pathway Data : GO\n",
      "pathway matrix shape :  torch.Size([4046, 8922])\n",
      "num_pathway :  4046\n",
      ">> Expression Data : brain\n",
      "sample_dim :  467\n",
      "input_size (number of genes):  8922\n",
      "patient list :  ['GSM1424091', 'GSM1424092', 'GSM1424093', 'GSM1424094', 'GSM1424095']\n"
     ]
    }
   ],
   "source": [
    "pathway = \"GO\"\n",
    "tissue = \"brain\"\n",
    "pathway_info, expression, status = preprocessing(pathway, tissue)"
   ]
  },
  {
   "cell_type": "markdown",
   "id": "1c8955cb",
   "metadata": {},
   "source": [
    "## Training (check the device first!)"
   ]
  },
  {
   "cell_type": "code",
   "execution_count": 4,
   "id": "082fcb3d",
   "metadata": {},
   "outputs": [],
   "source": [
    "trainArgs = {}\n",
    "trainArgs['x_data'] = expression\n",
    "trainArgs['y_data'] = status\n",
    "trainArgs['pathway_info'] = pathway_info\n",
    "# trainArgs['num_fc_list'] = [32, 64, 128]\n",
    "# trainArgs['lr_list'] = [0.0001,0.0005,0.001]\n",
    "trainArgs['num_fc_list'] = [32]\n",
    "trainArgs['lr_list'] = [0.0001]\n",
    "trainArgs['device'] = '0'\n",
    "trainArgs['seed'] = 0\n",
    "trainArgs['pathway'] = pathway\n",
    "trainArgs['tissue'] = tissue\n",
    "trainArgs['filename'] = 'result.csv'"
   ]
  },
  {
   "cell_type": "code",
   "execution_count": 5,
   "id": "c904f1f0",
   "metadata": {},
   "outputs": [],
   "source": [
    "from train import *"
   ]
  },
  {
   "cell_type": "code",
   "execution_count": 6,
   "id": "cc7bd102",
   "metadata": {},
   "outputs": [],
   "source": [
    "train = train_kfold(trainArgs)"
   ]
  },
  {
   "cell_type": "code",
   "execution_count": 7,
   "id": "8e58332b",
   "metadata": {},
   "outputs": [
    {
     "name": "stdout",
     "output_type": "stream",
     "text": [
      "****************************************************************************\n",
      "Fold 1 / 10\n",
      "****************************************************************************\n",
      "Validation AUC increased (0.000000 --> 0.891129).  Saving model ...\n",
      "Validation AUC increased (0.891129 --> 0.893145).  Saving model ...\n",
      "Validation AUC increased (0.893145 --> 0.907258).  Saving model ...\n",
      "Validation AUC increased (0.907258 --> 0.915323).  Saving model ...\n",
      "Validation AUC increased (0.915323 --> 0.921371).  Saving model ...\n",
      "Validation AUC increased (0.921371 --> 0.923387).  Saving model ...\n",
      "Validation AUC increased (0.923387 --> 0.925403).  Saving model ...\n",
      "Validation AUC increased (0.925403 --> 0.931452).  Saving model ...\n",
      "Validation AUC increased (0.931452 --> 0.941532).  Saving model ...\n",
      "Validation AUC increased (0.941532 --> 0.949597).  Saving model ...\n",
      "Validation AUC increased (0.949597 --> 0.953629).  Saving model ...\n",
      "Validation AUC increased (0.953629 --> 0.955645).  Saving model ...\n",
      "Validation AUC increased (0.955645 --> 0.957661).  Saving model ...\n",
      "Validation AUC increased (0.957661 --> 0.959677).  Saving model ...\n",
      "Validation AUC increased (0.959677 --> 0.967742).  Saving model ...\n",
      "****************************************************************************\n",
      "Fold 2 / 10\n",
      "****************************************************************************\n",
      "Validation AUC increased (0.000000 --> 0.943548).  Saving model ...\n",
      "Validation AUC increased (0.943548 --> 0.945565).  Saving model ...\n",
      "Validation AUC increased (0.945565 --> 0.955645).  Saving model ...\n",
      "Validation AUC increased (0.955645 --> 0.959677).  Saving model ...\n",
      "Validation AUC increased (0.959677 --> 0.963710).  Saving model ...\n",
      "Validation AUC increased (0.963710 --> 0.967742).  Saving model ...\n",
      "Validation AUC increased (0.967742 --> 0.971774).  Saving model ...\n",
      "Validation AUC increased (0.971774 --> 0.973790).  Saving model ...\n",
      "Validation AUC increased (0.973790 --> 0.975806).  Saving model ...\n",
      "Validation AUC increased (0.975806 --> 0.977823).  Saving model ...\n",
      "****************************************************************************\n",
      "Fold 3 / 10\n",
      "****************************************************************************\n",
      "Validation AUC increased (0.000000 --> 0.963710).  Saving model ...\n",
      "****************************************************************************\n",
      "Fold 4 / 10\n",
      "****************************************************************************\n",
      "Validation AUC increased (0.000000 --> 0.913306).  Saving model ...\n",
      "Validation AUC increased (0.913306 --> 0.925403).  Saving model ...\n",
      "Validation AUC increased (0.925403 --> 0.933468).  Saving model ...\n",
      "Validation AUC increased (0.933468 --> 0.935484).  Saving model ...\n",
      "Validation AUC increased (0.935484 --> 0.943548).  Saving model ...\n",
      "Validation AUC increased (0.943548 --> 0.953629).  Saving model ...\n",
      "Validation AUC increased (0.953629 --> 0.959677).  Saving model ...\n",
      "Validation AUC increased (0.959677 --> 0.961694).  Saving model ...\n",
      "Validation AUC increased (0.961694 --> 0.963710).  Saving model ...\n",
      "Validation AUC increased (0.963710 --> 0.967742).  Saving model ...\n",
      "Validation AUC increased (0.967742 --> 0.973790).  Saving model ...\n",
      "****************************************************************************\n",
      "Fold 5 / 10\n",
      "****************************************************************************\n",
      "Validation AUC increased (0.000000 --> 0.885081).  Saving model ...\n",
      "Validation AUC increased (0.885081 --> 0.893145).  Saving model ...\n",
      "Validation AUC increased (0.893145 --> 0.897177).  Saving model ...\n",
      "Validation AUC increased (0.897177 --> 0.901210).  Saving model ...\n",
      "Validation AUC increased (0.901210 --> 0.909274).  Saving model ...\n",
      "Validation AUC increased (0.909274 --> 0.915323).  Saving model ...\n",
      "Validation AUC increased (0.915323 --> 0.919355).  Saving model ...\n",
      "Validation AUC increased (0.919355 --> 0.921371).  Saving model ...\n",
      "Validation AUC increased (0.921371 --> 0.923387).  Saving model ...\n",
      "Validation AUC increased (0.923387 --> 0.927419).  Saving model ...\n",
      "Validation AUC increased (0.927419 --> 0.935484).  Saving model ...\n",
      "Validation AUC increased (0.935484 --> 0.939516).  Saving model ...\n",
      "Validation AUC increased (0.939516 --> 0.957661).  Saving model ...\n",
      "Validation AUC increased (0.957661 --> 0.959677).  Saving model ...\n",
      "Validation AUC increased (0.959677 --> 0.963710).  Saving model ...\n",
      "Validation AUC increased (0.963710 --> 0.965726).  Saving model ...\n",
      "Validation AUC increased (0.965726 --> 0.973790).  Saving model ...\n",
      "Validation AUC increased (0.973790 --> 0.975806).  Saving model ...\n",
      "****************************************************************************\n",
      "Fold 6 / 10\n",
      "****************************************************************************\n",
      "Validation AUC increased (0.000000 --> 0.929435).  Saving model ...\n",
      "Validation AUC increased (0.929435 --> 0.935484).  Saving model ...\n",
      "Validation AUC increased (0.935484 --> 0.945565).  Saving model ...\n",
      "Validation AUC increased (0.945565 --> 0.953629).  Saving model ...\n",
      "Validation AUC increased (0.953629 --> 0.955645).  Saving model ...\n",
      "Validation AUC increased (0.955645 --> 0.961694).  Saving model ...\n",
      "Validation AUC increased (0.961694 --> 0.963710).  Saving model ...\n",
      "Validation AUC increased (0.963710 --> 0.965726).  Saving model ...\n",
      "Validation AUC increased (0.965726 --> 0.971774).  Saving model ...\n",
      "Validation AUC increased (0.971774 --> 0.973790).  Saving model ...\n",
      "Validation AUC increased (0.973790 --> 0.977823).  Saving model ...\n",
      "****************************************************************************\n",
      "Fold 7 / 10\n",
      "****************************************************************************\n",
      "Validation AUC increased (0.000000 --> 0.943548).  Saving model ...\n",
      "****************************************************************************\n",
      "Fold 8 / 10\n",
      "****************************************************************************\n",
      "Validation AUC increased (0.000000 --> 0.909274).  Saving model ...\n",
      "Validation AUC increased (0.909274 --> 0.915323).  Saving model ...\n",
      "Validation AUC increased (0.915323 --> 0.929435).  Saving model ...\n",
      "Validation AUC increased (0.929435 --> 0.949597).  Saving model ...\n",
      "Validation AUC increased (0.949597 --> 0.961694).  Saving model ...\n",
      "Validation AUC increased (0.961694 --> 0.967742).  Saving model ...\n",
      "Validation AUC increased (0.967742 --> 0.969758).  Saving model ...\n",
      "Validation AUC increased (0.969758 --> 0.977823).  Saving model ...\n",
      "Validation AUC increased (0.977823 --> 0.979839).  Saving model ...\n",
      "Validation AUC increased (0.979839 --> 0.981855).  Saving model ...\n",
      "Validation AUC increased (0.981855 --> 0.983871).  Saving model ...\n",
      "****************************************************************************\n",
      "Fold 9 / 10\n",
      "****************************************************************************\n",
      "Validation AUC increased (0.000000 --> 0.987903).  Saving model ...\n",
      "Validation AUC increased (0.987903 --> 0.989919).  Saving model ...\n",
      "Validation AUC increased (0.989919 --> 0.991935).  Saving model ...\n",
      "Validation AUC increased (0.991935 --> 0.995968).  Saving model ...\n",
      "Validation AUC increased (0.995968 --> 1.000000).  Saving model ...\n",
      "****************************************************************************\n",
      "Fold 10 / 10\n",
      "****************************************************************************\n",
      "Validation AUC increased (0.000000 --> 0.915323).  Saving model ...\n",
      "Validation AUC increased (0.915323 --> 0.921371).  Saving model ...\n",
      "Validation AUC increased (0.921371 --> 0.923387).  Saving model ...\n",
      "Validation AUC increased (0.923387 --> 0.925403).  Saving model ...\n",
      "Validation AUC increased (0.925403 --> 0.933468).  Saving model ...\n",
      "Validation AUC increased (0.933468 --> 0.943548).  Saving model ...\n",
      "Validation AUC increased (0.943548 --> 0.947581).  Saving model ...\n",
      "Validation AUC increased (0.947581 --> 0.957661).  Saving model ...\n",
      "Validation AUC increased (0.957661 --> 0.971774).  Saving model ...\n",
      "Validation AUC increased (0.971774 --> 0.973790).  Saving model ...\n",
      "Validation AUC increased (0.973790 --> 0.973790).  Saving model ...\n"
     ]
    }
   ],
   "source": [
    "result = train.kfold()"
   ]
  },
  {
   "cell_type": "code",
   "execution_count": 8,
   "id": "00ecdf23",
   "metadata": {},
   "outputs": [
    {
     "data": {
      "text/html": [
       "<div>\n",
       "<style scoped>\n",
       "    .dataframe tbody tr th:only-of-type {\n",
       "        vertical-align: middle;\n",
       "    }\n",
       "\n",
       "    .dataframe tbody tr th {\n",
       "        vertical-align: top;\n",
       "    }\n",
       "\n",
       "    .dataframe thead th {\n",
       "        text-align: right;\n",
       "    }\n",
       "</style>\n",
       "<table border=\"1\" class=\"dataframe\">\n",
       "  <thead>\n",
       "    <tr style=\"text-align: right;\">\n",
       "      <th></th>\n",
       "      <th>hyperparam</th>\n",
       "      <th>Fold</th>\n",
       "      <th>Valid_AUC</th>\n",
       "      <th>Valid_Precision</th>\n",
       "      <th>Valid_Recall</th>\n",
       "      <th>Valid_F1</th>\n",
       "      <th>Test_AUC</th>\n",
       "      <th>Test_Precision</th>\n",
       "      <th>Test_Recall</th>\n",
       "      <th>Test_F1</th>\n",
       "    </tr>\n",
       "  </thead>\n",
       "  <tbody>\n",
       "    <tr>\n",
       "      <th>0</th>\n",
       "      <td>lr:0.0001 / num_fc:32</td>\n",
       "      <td>0</td>\n",
       "      <td>0.967742</td>\n",
       "      <td>0.935484</td>\n",
       "      <td>0.935484</td>\n",
       "      <td>0.935484</td>\n",
       "      <td>0.971774</td>\n",
       "      <td>0.911765</td>\n",
       "      <td>1.000000</td>\n",
       "      <td>0.953846</td>\n",
       "    </tr>\n",
       "    <tr>\n",
       "      <th>1</th>\n",
       "      <td>lr:0.0001 / num_fc:32</td>\n",
       "      <td>1</td>\n",
       "      <td>0.977823</td>\n",
       "      <td>1.000000</td>\n",
       "      <td>0.903226</td>\n",
       "      <td>0.949153</td>\n",
       "      <td>0.917339</td>\n",
       "      <td>0.962963</td>\n",
       "      <td>0.838710</td>\n",
       "      <td>0.896552</td>\n",
       "    </tr>\n",
       "    <tr>\n",
       "      <th>2</th>\n",
       "      <td>lr:0.0001 / num_fc:32</td>\n",
       "      <td>2</td>\n",
       "      <td>0.963710</td>\n",
       "      <td>0.937500</td>\n",
       "      <td>0.967742</td>\n",
       "      <td>0.952381</td>\n",
       "      <td>0.931452</td>\n",
       "      <td>0.937500</td>\n",
       "      <td>0.967742</td>\n",
       "      <td>0.952381</td>\n",
       "    </tr>\n",
       "    <tr>\n",
       "      <th>3</th>\n",
       "      <td>lr:0.0001 / num_fc:32</td>\n",
       "      <td>3</td>\n",
       "      <td>0.973790</td>\n",
       "      <td>0.911765</td>\n",
       "      <td>1.000000</td>\n",
       "      <td>0.953846</td>\n",
       "      <td>1.000000</td>\n",
       "      <td>1.000000</td>\n",
       "      <td>1.000000</td>\n",
       "      <td>1.000000</td>\n",
       "    </tr>\n",
       "    <tr>\n",
       "      <th>4</th>\n",
       "      <td>lr:0.0001 / num_fc:32</td>\n",
       "      <td>4</td>\n",
       "      <td>0.975806</td>\n",
       "      <td>0.966667</td>\n",
       "      <td>0.935484</td>\n",
       "      <td>0.950820</td>\n",
       "      <td>0.981855</td>\n",
       "      <td>0.937500</td>\n",
       "      <td>0.967742</td>\n",
       "      <td>0.952381</td>\n",
       "    </tr>\n",
       "    <tr>\n",
       "      <th>5</th>\n",
       "      <td>lr:0.0001 / num_fc:32</td>\n",
       "      <td>5</td>\n",
       "      <td>0.977823</td>\n",
       "      <td>0.937500</td>\n",
       "      <td>0.967742</td>\n",
       "      <td>0.952381</td>\n",
       "      <td>0.997984</td>\n",
       "      <td>0.968750</td>\n",
       "      <td>1.000000</td>\n",
       "      <td>0.984127</td>\n",
       "    </tr>\n",
       "    <tr>\n",
       "      <th>6</th>\n",
       "      <td>lr:0.0001 / num_fc:32</td>\n",
       "      <td>6</td>\n",
       "      <td>0.943548</td>\n",
       "      <td>0.935484</td>\n",
       "      <td>0.935484</td>\n",
       "      <td>0.935484</td>\n",
       "      <td>0.945565</td>\n",
       "      <td>0.885714</td>\n",
       "      <td>1.000000</td>\n",
       "      <td>0.939394</td>\n",
       "    </tr>\n",
       "    <tr>\n",
       "      <th>7</th>\n",
       "      <td>lr:0.0001 / num_fc:32</td>\n",
       "      <td>7</td>\n",
       "      <td>0.983871</td>\n",
       "      <td>0.911765</td>\n",
       "      <td>1.000000</td>\n",
       "      <td>0.953846</td>\n",
       "      <td>0.982796</td>\n",
       "      <td>0.939394</td>\n",
       "      <td>1.000000</td>\n",
       "      <td>0.968750</td>\n",
       "    </tr>\n",
       "    <tr>\n",
       "      <th>8</th>\n",
       "      <td>lr:0.0001 / num_fc:32</td>\n",
       "      <td>8</td>\n",
       "      <td>1.000000</td>\n",
       "      <td>1.000000</td>\n",
       "      <td>1.000000</td>\n",
       "      <td>1.000000</td>\n",
       "      <td>0.976344</td>\n",
       "      <td>0.909091</td>\n",
       "      <td>0.967742</td>\n",
       "      <td>0.937500</td>\n",
       "    </tr>\n",
       "    <tr>\n",
       "      <th>9</th>\n",
       "      <td>lr:0.0001 / num_fc:32</td>\n",
       "      <td>9</td>\n",
       "      <td>0.973790</td>\n",
       "      <td>0.909091</td>\n",
       "      <td>0.967742</td>\n",
       "      <td>0.937500</td>\n",
       "      <td>0.997849</td>\n",
       "      <td>0.968750</td>\n",
       "      <td>1.000000</td>\n",
       "      <td>0.984127</td>\n",
       "    </tr>\n",
       "  </tbody>\n",
       "</table>\n",
       "</div>"
      ],
      "text/plain": [
       "              hyperparam Fold  Valid_AUC  Valid_Precision  Valid_Recall  \\\n",
       "0  lr:0.0001 / num_fc:32    0   0.967742         0.935484      0.935484   \n",
       "1  lr:0.0001 / num_fc:32    1   0.977823         1.000000      0.903226   \n",
       "2  lr:0.0001 / num_fc:32    2   0.963710         0.937500      0.967742   \n",
       "3  lr:0.0001 / num_fc:32    3   0.973790         0.911765      1.000000   \n",
       "4  lr:0.0001 / num_fc:32    4   0.975806         0.966667      0.935484   \n",
       "5  lr:0.0001 / num_fc:32    5   0.977823         0.937500      0.967742   \n",
       "6  lr:0.0001 / num_fc:32    6   0.943548         0.935484      0.935484   \n",
       "7  lr:0.0001 / num_fc:32    7   0.983871         0.911765      1.000000   \n",
       "8  lr:0.0001 / num_fc:32    8   1.000000         1.000000      1.000000   \n",
       "9  lr:0.0001 / num_fc:32    9   0.973790         0.909091      0.967742   \n",
       "\n",
       "   Valid_F1  Test_AUC  Test_Precision  Test_Recall   Test_F1  \n",
       "0  0.935484  0.971774        0.911765     1.000000  0.953846  \n",
       "1  0.949153  0.917339        0.962963     0.838710  0.896552  \n",
       "2  0.952381  0.931452        0.937500     0.967742  0.952381  \n",
       "3  0.953846  1.000000        1.000000     1.000000  1.000000  \n",
       "4  0.950820  0.981855        0.937500     0.967742  0.952381  \n",
       "5  0.952381  0.997984        0.968750     1.000000  0.984127  \n",
       "6  0.935484  0.945565        0.885714     1.000000  0.939394  \n",
       "7  0.953846  0.982796        0.939394     1.000000  0.968750  \n",
       "8  1.000000  0.976344        0.909091     0.967742  0.937500  \n",
       "9  0.937500  0.997849        0.968750     1.000000  0.984127  "
      ]
     },
     "execution_count": 8,
     "metadata": {},
     "output_type": "execute_result"
    }
   ],
   "source": [
    "result"
   ]
  },
  {
   "cell_type": "code",
   "execution_count": 13,
   "id": "320c2eec",
   "metadata": {
    "tags": []
   },
   "outputs": [],
   "source": [
    "result.to_csv(trainArgs['filename'], mode='w')"
   ]
  },
  {
   "cell_type": "code",
   "execution_count": 15,
   "id": "7fd20c35-74e8-4546-93e4-da9023a95495",
   "metadata": {
    "tags": []
   },
   "outputs": [
    {
     "name": "stdout",
     "output_type": "stream",
     "text": [
      "****************************************************************************\n",
      ">>[Test Result] avg.auc : 0.9717, f1 : 0.9619\n",
      "\n"
     ]
    }
   ],
   "source": [
    "idx = result.groupby(['Fold'])['Valid_AUC'].transform(max) == result['Valid_AUC']\n",
    "result = result[idx]\n",
    "print('****************************************************************************')\n",
    "print(\">>[Test Result] avg.auc : {:.4f}, f1 : {:.4f}\\n\".format(result['Test_AUC'].mean(), result['Test_F1'].mean()))"
   ]
  },
  {
   "cell_type": "code",
   "execution_count": 9,
   "id": "6014f3fc-4fd9-457a-93d0-e25f50e7e8cf",
   "metadata": {},
   "outputs": [
    {
     "name": "stdout",
     "output_type": "stream",
     "text": [
      "****************************************************************************\n",
      ">>[Test Result] avg.auc : 0.9703, f1 : 0.9569\n",
      "\n"
     ]
    }
   ],
   "source": [
    "idx = result.groupby(['Fold'])['Valid_AUC'].transform(max) == result['Valid_AUC']\n",
    "result = result[idx]\n",
    "print('****************************************************************************')\n",
    "print(\">>[Test Result] avg.auc : {:.4f}, f1 : {:.4f}\\n\".format(result['Test_AUC'].mean(), result['Test_F1'].mean()))"
   ]
  },
  {
   "cell_type": "code",
   "execution_count": null,
   "id": "256d4cc7-a0e6-4fec-99cb-ee31ad45c9ce",
   "metadata": {},
   "outputs": [],
   "source": []
  }
 ],
 "metadata": {
  "kernelspec": {
   "display_name": "torch2",
   "language": "python",
   "name": "torch"
  },
  "language_info": {
   "codemirror_mode": {
    "name": "ipython",
    "version": 3
   },
   "file_extension": ".py",
   "mimetype": "text/x-python",
   "name": "python",
   "nbconvert_exporter": "python",
   "pygments_lexer": "ipython3",
   "version": "3.8.17"
  }
 },
 "nbformat": 4,
 "nbformat_minor": 5
}
