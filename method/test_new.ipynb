{
 "cells": [
  {
   "cell_type": "code",
   "execution_count": 1,
   "id": "8c6fce11-afd9-4c4b-8e9a-8bb6d0f2aa92",
   "metadata": {
    "tags": []
   },
   "outputs": [],
   "source": [
    "import os, torch\n",
    "import numpy as np\n",
    "import pandas as pd\n",
    "from torch import nn\n",
    "import torch.nn.functional as F\n",
    "from sklearn.preprocessing import MinMaxScaler\n",
    "import matplotlib.pyplot as plt\n",
    "\n",
    "from dataPre import *"
   ]
  },
  {
   "cell_type": "markdown",
   "id": "38e8a7da-e912-4620-b035-b0b0a6c27b03",
   "metadata": {},
   "source": [
    "# cpg + gene"
   ]
  },
  {
   "cell_type": "code",
   "execution_count": 2,
   "id": "63cab203-9da2-48a9-801b-e394037fe3b7",
   "metadata": {},
   "outputs": [
    {
     "name": "stdout",
     "output_type": "stream",
     "text": [
      ">> Pathway Data : ../../data/pathway_gobp.csv\n",
      "pathway matrix shape :  torch.Size([5453, 24728])\n",
      "num_pathway :  5453\n",
      ">> Methylation beta Data: ../../data/beta.by.intensity.all.regions.csv\n",
      "sample_dim :  547\n",
      "input_size (number of genes, methylation sites):  661546\n",
      "patient list :  ['GSM5334237', 'GSM5334238', 'GSM5334239', 'GSM5334240', 'GSM5334241', 'GSM5334242']\n",
      "feature list :  ['cg26928153', 'cg16269199', 'cg24669183', 'cg26679879', 'cg22519184', 'cg15560884']\n",
      ">> Gene Data: ../../data/gene.average.beta.by.intensity.csv\n",
      "sample_dim :  547\n",
      "input_size (number of genes):  24728\n",
      "feature list :  ['DDX11L1', 'LOC101928626', 'FAM87B', 'LINC01128', 'LOC643837', 'FAM41C']\n"
     ]
    }
   ],
   "source": [
    "#path_fn = \"../../data/pathway_kegg.csv\"\n",
    "path_fn = \"../../data/pathway_gobp.csv\"\n",
    "gene_fn = \"../../data/gene.average.beta.by.intensity.csv\"\n",
    "meth_fn = \"../../data/beta.by.intensity.all.regions.csv\"\n",
    "label_fn = \"../../data/label.csv\"\n",
    "pathway_info, expression, methylation, status, features, features_meth = preprocessing3(path_fn, meth_fn,gene_fn,label_fn)"
   ]
  },
  {
   "cell_type": "code",
   "execution_count": 3,
   "id": "4219e901-a317-4ee1-a7e8-85a5913c5268",
   "metadata": {
    "tags": []
   },
   "outputs": [],
   "source": [
    "x_data = np.concatenate((expression,methylation),axis=1)"
   ]
  },
  {
   "cell_type": "markdown",
   "id": "aa4826c3-4c7f-4417-b8ec-3bbba66919a4",
   "metadata": {},
   "source": [
    "# cpg + cpg"
   ]
  },
  {
   "cell_type": "code",
   "execution_count": 2,
   "id": "36969d08-d5bb-4ce9-aff7-47585a16cd5c",
   "metadata": {
    "tags": []
   },
   "outputs": [
    {
     "name": "stdout",
     "output_type": "stream",
     "text": [
      ">> Pathway Data : ../../data/pathway_kegg_new.csv\n",
      "pathway matrix shape :  torch.Size([184, 481378])\n",
      "num_pathway :  184\n",
      ">> Methylation beta Data: ../../data/beta.by.intensity.all.regions.csv\n",
      "sample_dim :  547\n",
      "input_size (number of genes, methylation sites):  661546\n",
      "patient list :  ['GSM5334237', 'GSM5334238', 'GSM5334239', 'GSM5334240', 'GSM5334241', 'GSM5334242']\n",
      "feature list :  ['cg26928153', 'cg16269199', 'cg24669183', 'cg26679879', 'cg22519184', 'cg15560884']\n",
      "sample_dim :  547\n",
      "input_size (number of genes):  481378\n"
     ]
    }
   ],
   "source": [
    "path_fn = \"../../data/pathway_kegg_new.csv\"\n",
    "#path_fn = \"../../data/pathway_gobp_new.csv\"\n",
    "meth_fn = \"../../data/beta.by.intensity.all.regions.csv\"\n",
    "label_fn = \"../../data/label.csv\"\n",
    "pathway_info, expression, methylation, status, features, features_meth = preprocessing2(path_fn, meth_fn, label_fn)"
   ]
  },
  {
   "cell_type": "code",
   "execution_count": 3,
   "id": "a520c18b-1374-4d6d-8763-89f240803610",
   "metadata": {
    "tags": []
   },
   "outputs": [],
   "source": [
    "x_data = np.concatenate((methylation,methylation),axis=1)"
   ]
  },
  {
   "cell_type": "code",
   "execution_count": 4,
   "id": "d8a31399-970d-4755-989f-130a5da3f43d",
   "metadata": {
    "tags": []
   },
   "outputs": [],
   "source": [
    "trainArgs = {}\n",
    "trainArgs['x_data'] = x_data\n",
    "trainArgs['y_data'] = status\n",
    "trainArgs['pathway_info'] = pathway_info\n",
    "trainArgs['features'] = features\n",
    "trainArgs['num_fc_list'] = [32]\n",
    "trainArgs['lr_list'] = [0.001]\n",
    "trainArgs['sel_feat_num'] = 50000\n",
    "#trainArgs['num_fc_list'] = [32]\n",
    "#trainArgs['lr_list'] = [0.0001]\n",
    "trainArgs['device'] = '0'\n",
    "trainArgs['seed'] = 0\n",
    "trainArgs['filename'] = 'result.csv'"
   ]
  },
  {
   "cell_type": "code",
   "execution_count": 5,
   "id": "fef84109-a722-4d79-a1cc-5576868d6268",
   "metadata": {
    "tags": []
   },
   "outputs": [
    {
     "name": "stderr",
     "output_type": "stream",
     "text": [
      "Using `tqdm.autonotebook.tqdm` in notebook mode. Use `tqdm.tqdm` instead to force console mode (e.g. in jupyter console)\n"
     ]
    }
   ],
   "source": [
    "from train import *"
   ]
  },
  {
   "cell_type": "markdown",
   "id": "7c0d21e2-4cc0-47bd-9ba2-82f87ef7119b",
   "metadata": {},
   "source": [
    "# cpg + gene"
   ]
  },
  {
   "cell_type": "code",
   "execution_count": 6,
   "id": "a0e011dc-629d-4d60-bb01-4b9397b0ae7f",
   "metadata": {
    "tags": []
   },
   "outputs": [
    {
     "name": "stdout",
     "output_type": "stream",
     "text": [
      "****************************************************************************\n",
      "Fold 1 / 5\n",
      "****************************************************************************\n",
      "74728 24728\n",
      "Validation AUC increased (0.000000 --> 0.905018).  Saving model ...\n",
      "Validation AUC increased (0.905018 --> 0.912186).  Saving model ...\n",
      "Validation AUC increased (0.912186 --> 0.928315).  Saving model ...\n",
      "Validation AUC increased (0.928315 --> 0.930108).  Saving model ...\n",
      "Validation AUC increased (0.930108 --> 0.940860).  Saving model ...\n",
      "Validation AUC increased (0.940860 --> 0.951613).  Saving model ...\n",
      "Validation AUC increased (0.951613 --> 0.958781).  Saving model ...\n",
      "Validation AUC increased (0.958781 --> 0.960573).  Saving model ...\n",
      "Validation AUC increased (0.960573 --> 0.974910).  Saving model ...\n",
      "Validation AUC increased (0.974910 --> 0.976703).  Saving model ...\n",
      "Validation AUC increased (0.976703 --> 0.978495).  Saving model ...\n",
      "Validation AUC increased (0.978495 --> 0.980287).  Saving model ...\n",
      "Validation AUC increased (0.980287 --> 0.989247).  Saving model ...\n",
      "****************************************************************************\n",
      "Fold 2 / 5\n",
      "****************************************************************************\n",
      "74728 24728\n",
      "Validation AUC increased (0.000000 --> 0.890681).  Saving model ...\n",
      "Validation AUC increased (0.890681 --> 0.942652).  Saving model ...\n",
      "Validation AUC increased (0.942652 --> 0.955197).  Saving model ...\n",
      "Validation AUC increased (0.955197 --> 0.956989).  Saving model ...\n",
      "Validation AUC increased (0.956989 --> 0.965950).  Saving model ...\n",
      "Validation AUC increased (0.965950 --> 0.967742).  Saving model ...\n",
      "Validation AUC increased (0.967742 --> 0.971326).  Saving model ...\n",
      "Validation AUC increased (0.971326 --> 0.974910).  Saving model ...\n",
      "Validation AUC increased (0.974910 --> 0.978495).  Saving model ...\n",
      "Validation AUC increased (0.978495 --> 0.982079).  Saving model ...\n",
      "Validation AUC increased (0.982079 --> 0.982079).  Saving model ...\n",
      "Validation AUC increased (0.982079 --> 0.983871).  Saving model ...\n",
      "Validation AUC increased (0.983871 --> 0.991039).  Saving model ...\n",
      "Validation AUC increased (0.991039 --> 0.994624).  Saving model ...\n",
      "****************************************************************************\n",
      "Fold 3 / 5\n",
      "****************************************************************************\n",
      "74728 24728\n",
      "Validation AUC increased (0.000000 --> 0.940860).  Saving model ...\n",
      "Validation AUC increased (0.940860 --> 0.944444).  Saving model ...\n",
      "Validation AUC increased (0.944444 --> 0.949821).  Saving model ...\n",
      "Validation AUC increased (0.949821 --> 0.951613).  Saving model ...\n",
      "Validation AUC increased (0.951613 --> 0.958781).  Saving model ...\n",
      "Validation AUC increased (0.958781 --> 0.964158).  Saving model ...\n",
      "Validation AUC increased (0.964158 --> 0.974910).  Saving model ...\n",
      "Validation AUC increased (0.974910 --> 0.976703).  Saving model ...\n",
      "Validation AUC increased (0.976703 --> 0.987455).  Saving model ...\n",
      "Validation AUC increased (0.987455 --> 0.992832).  Saving model ...\n",
      "Validation AUC increased (0.992832 --> 0.996416).  Saving model ...\n",
      "Validation AUC increased (0.996416 --> 0.998208).  Saving model ...\n",
      "****************************************************************************\n",
      "Fold 4 / 5\n",
      "****************************************************************************\n",
      "74728 24728\n",
      "Validation AUC increased (0.000000 --> 0.942652).  Saving model ...\n",
      "Validation AUC increased (0.942652 --> 0.956989).  Saving model ...\n",
      "Validation AUC increased (0.956989 --> 0.965950).  Saving model ...\n",
      "Validation AUC increased (0.965950 --> 0.974910).  Saving model ...\n",
      "Validation AUC increased (0.974910 --> 0.980287).  Saving model ...\n",
      "Validation AUC increased (0.980287 --> 0.982079).  Saving model ...\n",
      "****************************************************************************\n",
      "Fold 5 / 5\n",
      "****************************************************************************\n",
      "74728 24728\n",
      "Validation AUC increased (0.000000 --> 0.894265).  Saving model ...\n",
      "Validation AUC increased (0.894265 --> 0.915771).  Saving model ...\n",
      "Validation AUC increased (0.915771 --> 0.921147).  Saving model ...\n",
      "Validation AUC increased (0.921147 --> 0.922939).  Saving model ...\n",
      "Validation AUC increased (0.922939 --> 0.930108).  Saving model ...\n",
      "Validation AUC increased (0.930108 --> 0.937276).  Saving model ...\n",
      "Validation AUC increased (0.937276 --> 0.946237).  Saving model ...\n",
      "Validation AUC increased (0.946237 --> 0.953405).  Saving model ...\n",
      "Validation AUC increased (0.953405 --> 0.958781).  Saving model ...\n",
      "Validation AUC increased (0.958781 --> 0.965950).  Saving model ...\n",
      "Validation AUC increased (0.965950 --> 0.989247).  Saving model ...\n",
      "Validation AUC increased (0.989247 --> 0.992832).  Saving model ...\n",
      "Validation AUC increased (0.992832 --> 0.994624).  Saving model ...\n",
      "Validation AUC increased (0.994624 --> 0.996416).  Saving model ...\n"
     ]
    }
   ],
   "source": [
    "train = train_kfold4(trainArgs)\n",
    "result = train.kfold()"
   ]
  },
  {
   "cell_type": "markdown",
   "id": "0375e562-1387-448c-b11a-b2e66e46a2f8",
   "metadata": {},
   "source": [
    "# cpg +cpg"
   ]
  },
  {
   "cell_type": "code",
   "execution_count": 6,
   "id": "fb0cb52f-2bf8-4c05-9c24-571d730cd597",
   "metadata": {
    "tags": []
   },
   "outputs": [
    {
     "name": "stdout",
     "output_type": "stream",
     "text": [
      "****************************************************************************\n",
      "Fold 1 / 5\n",
      "****************************************************************************\n",
      "Validation AUC increased (0.000000 --> 0.949821).  Saving model ...\n",
      "Validation AUC increased (0.949821 --> 0.955197).  Saving model ...\n",
      "Validation AUC increased (0.955197 --> 0.962366).  Saving model ...\n",
      "Validation AUC increased (0.962366 --> 0.971326).  Saving model ...\n",
      "Validation AUC increased (0.971326 --> 0.974910).  Saving model ...\n",
      "Validation AUC increased (0.974910 --> 0.978495).  Saving model ...\n",
      "Validation AUC increased (0.978495 --> 0.982079).  Saving model ...\n",
      "Validation AUC increased (0.982079 --> 0.987455).  Saving model ...\n",
      "Validation AUC increased (0.987455 --> 0.991039).  Saving model ...\n",
      "Validation AUC increased (0.991039 --> 0.994624).  Saving model ...\n",
      "****************************************************************************\n",
      "Fold 2 / 5\n",
      "****************************************************************************\n",
      "Validation AUC increased (0.000000 --> 0.973118).  Saving model ...\n",
      "Validation AUC increased (0.973118 --> 0.976703).  Saving model ...\n",
      "Validation AUC increased (0.976703 --> 0.980287).  Saving model ...\n",
      "Validation AUC increased (0.980287 --> 0.982079).  Saving model ...\n",
      "Validation AUC increased (0.982079 --> 0.983871).  Saving model ...\n",
      "Validation AUC increased (0.983871 --> 0.987455).  Saving model ...\n",
      "Validation AUC increased (0.987455 --> 0.989247).  Saving model ...\n",
      "Validation AUC increased (0.989247 --> 0.992832).  Saving model ...\n",
      "Validation AUC increased (0.992832 --> 0.996416).  Saving model ...\n",
      "****************************************************************************\n",
      "Fold 3 / 5\n",
      "****************************************************************************\n",
      "Validation AUC increased (0.000000 --> 0.973118).  Saving model ...\n",
      "Validation AUC increased (0.973118 --> 0.982079).  Saving model ...\n",
      "Validation AUC increased (0.982079 --> 0.983871).  Saving model ...\n",
      "Validation AUC increased (0.983871 --> 0.985663).  Saving model ...\n",
      "Validation AUC increased (0.985663 --> 0.991039).  Saving model ...\n",
      "Validation AUC increased (0.991039 --> 1.000000).  Saving model ...\n",
      "****************************************************************************\n",
      "Fold 4 / 5\n",
      "****************************************************************************\n",
      "Validation AUC increased (0.000000 --> 0.962366).  Saving model ...\n",
      "Validation AUC increased (0.962366 --> 0.965950).  Saving model ...\n",
      "Validation AUC increased (0.965950 --> 0.969534).  Saving model ...\n",
      "Validation AUC increased (0.969534 --> 0.971326).  Saving model ...\n",
      "Validation AUC increased (0.971326 --> 0.974910).  Saving model ...\n",
      "****************************************************************************\n",
      "Fold 5 / 5\n",
      "****************************************************************************\n",
      "Validation AUC increased (0.000000 --> 0.935484).  Saving model ...\n",
      "Validation AUC increased (0.935484 --> 0.942652).  Saving model ...\n",
      "Validation AUC increased (0.942652 --> 0.948029).  Saving model ...\n",
      "Validation AUC increased (0.948029 --> 0.958781).  Saving model ...\n",
      "Validation AUC increased (0.958781 --> 0.965950).  Saving model ...\n",
      "Validation AUC increased (0.965950 --> 0.967742).  Saving model ...\n",
      "Validation AUC increased (0.967742 --> 0.973118).  Saving model ...\n",
      "Validation AUC increased (0.973118 --> 0.976703).  Saving model ...\n",
      "Validation AUC increased (0.976703 --> 0.983871).  Saving model ...\n",
      "Validation AUC increased (0.983871 --> 0.987455).  Saving model ...\n",
      "Validation AUC increased (0.987455 --> 0.991039).  Saving model ...\n"
     ]
    }
   ],
   "source": [
    "train = train_kfold3(trainArgs)\n",
    "result = train.kfold()"
   ]
  },
  {
   "cell_type": "code",
   "execution_count": 10,
   "id": "c51a2bdb-b099-48d5-a448-3df1f2d04e6f",
   "metadata": {},
   "outputs": [
    {
     "data": {
      "text/html": [
       "<div>\n",
       "<style scoped>\n",
       "    .dataframe tbody tr th:only-of-type {\n",
       "        vertical-align: middle;\n",
       "    }\n",
       "\n",
       "    .dataframe tbody tr th {\n",
       "        vertical-align: top;\n",
       "    }\n",
       "\n",
       "    .dataframe thead th {\n",
       "        text-align: right;\n",
       "    }\n",
       "</style>\n",
       "<table border=\"1\" class=\"dataframe\">\n",
       "  <thead>\n",
       "    <tr style=\"text-align: right;\">\n",
       "      <th></th>\n",
       "      <th>hyperparam</th>\n",
       "      <th>Fold</th>\n",
       "      <th>Valid_AUC</th>\n",
       "      <th>Valid_Precision</th>\n",
       "      <th>Valid_Recall</th>\n",
       "      <th>Valid_F1</th>\n",
       "      <th>Test_AUC</th>\n",
       "      <th>Test_Precision</th>\n",
       "      <th>Test_Recall</th>\n",
       "      <th>Test_F1</th>\n",
       "      <th>Test_PrAUC</th>\n",
       "    </tr>\n",
       "  </thead>\n",
       "  <tbody>\n",
       "    <tr>\n",
       "      <th>0</th>\n",
       "      <td>lr:0.001 / num_fc:32</td>\n",
       "      <td>0</td>\n",
       "      <td>1.000000</td>\n",
       "      <td>1.00000</td>\n",
       "      <td>1.000000</td>\n",
       "      <td>1.000000</td>\n",
       "      <td>0.988689</td>\n",
       "      <td>0.985294</td>\n",
       "      <td>0.971014</td>\n",
       "      <td>0.978102</td>\n",
       "      <td>0.992977</td>\n",
       "    </tr>\n",
       "    <tr>\n",
       "      <th>1</th>\n",
       "      <td>lr:0.001 / num_fc:32</td>\n",
       "      <td>1</td>\n",
       "      <td>0.996416</td>\n",
       "      <td>0.96875</td>\n",
       "      <td>1.000000</td>\n",
       "      <td>0.984127</td>\n",
       "      <td>0.983740</td>\n",
       "      <td>0.971014</td>\n",
       "      <td>0.971014</td>\n",
       "      <td>0.971014</td>\n",
       "      <td>0.990075</td>\n",
       "    </tr>\n",
       "    <tr>\n",
       "      <th>2</th>\n",
       "      <td>lr:0.001 / num_fc:32</td>\n",
       "      <td>2</td>\n",
       "      <td>0.992832</td>\n",
       "      <td>1.00000</td>\n",
       "      <td>0.967742</td>\n",
       "      <td>0.983607</td>\n",
       "      <td>0.971739</td>\n",
       "      <td>0.971831</td>\n",
       "      <td>1.000000</td>\n",
       "      <td>0.985714</td>\n",
       "      <td>0.973132</td>\n",
       "    </tr>\n",
       "    <tr>\n",
       "      <th>3</th>\n",
       "      <td>lr:0.001 / num_fc:32</td>\n",
       "      <td>3</td>\n",
       "      <td>0.989247</td>\n",
       "      <td>0.96875</td>\n",
       "      <td>1.000000</td>\n",
       "      <td>0.984127</td>\n",
       "      <td>0.957971</td>\n",
       "      <td>0.918919</td>\n",
       "      <td>0.985507</td>\n",
       "      <td>0.951049</td>\n",
       "      <td>0.956157</td>\n",
       "    </tr>\n",
       "    <tr>\n",
       "      <th>4</th>\n",
       "      <td>lr:0.001 / num_fc:32</td>\n",
       "      <td>4</td>\n",
       "      <td>0.996416</td>\n",
       "      <td>1.00000</td>\n",
       "      <td>0.967742</td>\n",
       "      <td>0.983607</td>\n",
       "      <td>0.962319</td>\n",
       "      <td>0.984375</td>\n",
       "      <td>0.913043</td>\n",
       "      <td>0.947368</td>\n",
       "      <td>0.944759</td>\n",
       "    </tr>\n",
       "  </tbody>\n",
       "</table>\n",
       "</div>"
      ],
      "text/plain": [
       "             hyperparam Fold  Valid_AUC  Valid_Precision  Valid_Recall  \\\n",
       "0  lr:0.001 / num_fc:32    0   1.000000          1.00000      1.000000   \n",
       "1  lr:0.001 / num_fc:32    1   0.996416          0.96875      1.000000   \n",
       "2  lr:0.001 / num_fc:32    2   0.992832          1.00000      0.967742   \n",
       "3  lr:0.001 / num_fc:32    3   0.989247          0.96875      1.000000   \n",
       "4  lr:0.001 / num_fc:32    4   0.996416          1.00000      0.967742   \n",
       "\n",
       "   Valid_F1  Test_AUC  Test_Precision  Test_Recall   Test_F1  Test_PrAUC  \n",
       "0  1.000000  0.988689        0.985294     0.971014  0.978102    0.992977  \n",
       "1  0.984127  0.983740        0.971014     0.971014  0.971014    0.990075  \n",
       "2  0.983607  0.971739        0.971831     1.000000  0.985714    0.973132  \n",
       "3  0.984127  0.957971        0.918919     0.985507  0.951049    0.956157  \n",
       "4  0.983607  0.962319        0.984375     0.913043  0.947368    0.944759  "
      ]
     },
     "execution_count": 10,
     "metadata": {},
     "output_type": "execute_result"
    }
   ],
   "source": [
    "result"
   ]
  },
  {
   "cell_type": "code",
   "execution_count": 8,
   "id": "fc7665a6-a2fc-49e1-bc99-3301a8e1438e",
   "metadata": {},
   "outputs": [],
   "source": [
    "result.to_csv(\"./result_GOBP_new2.csv\")"
   ]
  },
  {
   "cell_type": "code",
   "execution_count": null,
   "id": "11ccb55d-4140-4b80-b7db-349fc352617a",
   "metadata": {},
   "outputs": [],
   "source": []
  }
 ],
 "metadata": {
  "kernelspec": {
   "display_name": "torch2",
   "language": "python",
   "name": "torch"
  },
  "language_info": {
   "codemirror_mode": {
    "name": "ipython",
    "version": 3
   },
   "file_extension": ".py",
   "mimetype": "text/x-python",
   "name": "python",
   "nbconvert_exporter": "python",
   "pygments_lexer": "ipython3",
   "version": "3.8.17"
  }
 },
 "nbformat": 4,
 "nbformat_minor": 5
}
