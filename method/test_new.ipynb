{
 "cells": [
  {
   "cell_type": "code",
   "execution_count": 1,
   "id": "8c6fce11-afd9-4c4b-8e9a-8bb6d0f2aa92",
   "metadata": {
    "tags": []
   },
   "outputs": [],
   "source": [
    "import os, torch\n",
    "import numpy as np\n",
    "import pandas as pd\n",
    "from torch import nn\n",
    "import torch.nn.functional as F\n",
    "from sklearn.preprocessing import MinMaxScaler\n",
    "import matplotlib.pyplot as plt\n",
    "\n",
    "from dataPre import *"
   ]
  },
  {
   "cell_type": "code",
   "execution_count": 2,
   "id": "63cab203-9da2-48a9-801b-e394037fe3b7",
   "metadata": {},
   "outputs": [
    {
     "name": "stdout",
     "output_type": "stream",
     "text": [
      ">> Pathway Data : ../../data/pathway_gobp.csv\n",
      "pathway matrix shape :  torch.Size([5456, 24862])\n",
      "num_pathway :  5456\n",
      ">> Methylation Gene-level Data: ../../data/gene.average.beta.by.intensity.csv\n",
      "sample_dim :  100\n",
      "input_size (number of genes):  24862\n",
      ">> Methylation beta Data: ../../data/beta.by.intensity.csv\n",
      "sample_dim :  100 100\n",
      "input_size (number of genes, methylation sites):  24862 500257\n",
      "patient list :  ['GSM7696105', 'GSM7696106', 'GSM7696107', 'GSM7696108', 'GSM7696109', 'GSM7696110']\n",
      "feature list :  ['DDX11L1', 'LOC101928626', 'FAM87B', 'LINC01128', 'LOC643837', 'FAM41C'] ['cg26928153', 'cg16269199', 'cg26679879', 'cg22519184', 'cg09499020', 'cg15979415']\n"
     ]
    }
   ],
   "source": [
    "path_fn = \"../../data/pathway_gobp.csv\"\n",
    "gene_fn = \"../../data/gene.average.beta.by.intensity.csv\"\n",
    "meth_fn = \"../../data/beta.by.intensity.csv\"\n",
    "label_fn = \"../../data/label.csv\"\n",
    "pathway_info, expression, methylation, status, features, features_meth = preprocessing2(path_fn, gene_fn, meth_fn, label_fn)"
   ]
  },
  {
   "cell_type": "code",
   "execution_count": 3,
   "id": "a520c18b-1374-4d6d-8763-89f240803610",
   "metadata": {
    "tags": []
   },
   "outputs": [],
   "source": [
    "x_data = np.concatenate((expression,methylation),axis=1)"
   ]
  },
  {
   "cell_type": "code",
   "execution_count": 4,
   "id": "d8a31399-970d-4755-989f-130a5da3f43d",
   "metadata": {
    "tags": []
   },
   "outputs": [],
   "source": [
    "trainArgs = {}\n",
    "trainArgs['x_data'] = x_data\n",
    "trainArgs['y_data'] = status\n",
    "trainArgs['pathway_info'] = pathway_info\n",
    "trainArgs['features'] = features\n",
    "trainArgs['num_fc_list'] = [32]\n",
    "trainArgs['lr_list'] = [0.001]\n",
    "#trainArgs['num_fc_list'] = [32]\n",
    "#trainArgs['lr_list'] = [0.0001]\n",
    "trainArgs['device'] = '0'\n",
    "trainArgs['seed'] = 0\n",
    "trainArgs['filename'] = 'result.csv'"
   ]
  },
  {
   "cell_type": "code",
   "execution_count": 5,
   "id": "fef84109-a722-4d79-a1cc-5576868d6268",
   "metadata": {
    "tags": []
   },
   "outputs": [
    {
     "name": "stderr",
     "output_type": "stream",
     "text": [
      "Using `tqdm.autonotebook.tqdm` in notebook mode. Use `tqdm.tqdm` instead to force console mode (e.g. in jupyter console)\n"
     ]
    }
   ],
   "source": [
    "from train import *"
   ]
  },
  {
   "cell_type": "code",
   "execution_count": 6,
   "id": "287823d9-cbc2-4ede-bdac-130345041a51",
   "metadata": {
    "tags": []
   },
   "outputs": [
    {
     "name": "stdout",
     "output_type": "stream",
     "text": [
      "****************************************************************************\n",
      "Fold 1 / 5\n",
      "****************************************************************************\n",
      "MI feature selection...\n",
      "Validation AUC increased (0.000000 --> 0.500000).  Saving model ...\n",
      "Validation AUC increased (0.500000 --> 0.550000).  Saving model ...\n",
      "Validation AUC increased (0.550000 --> 0.550000).  Saving model ...\n",
      "Validation AUC increased (0.550000 --> 0.650000).  Saving model ...\n",
      "****************************************************************************\n",
      "Fold 2 / 5\n",
      "****************************************************************************\n",
      "MI feature selection...\n",
      "Validation AUC increased (0.000000 --> 0.600000).  Saving model ...\n",
      "****************************************************************************\n",
      "Fold 3 / 5\n",
      "****************************************************************************\n",
      "MI feature selection...\n",
      "Validation AUC increased (0.000000 --> 0.400000).  Saving model ...\n",
      "Validation AUC increased (0.400000 --> 0.450000).  Saving model ...\n",
      "Validation AUC increased (0.450000 --> 0.550000).  Saving model ...\n",
      "Validation AUC increased (0.550000 --> 0.600000).  Saving model ...\n",
      "Validation AUC increased (0.600000 --> 0.650000).  Saving model ...\n",
      "****************************************************************************\n",
      "Fold 4 / 5\n",
      "****************************************************************************\n",
      "MI feature selection...\n",
      "Validation AUC increased (0.000000 --> 0.500000).  Saving model ...\n",
      "Validation AUC increased (0.500000 --> 0.550000).  Saving model ...\n",
      "Validation AUC increased (0.550000 --> 0.600000).  Saving model ...\n",
      "****************************************************************************\n",
      "Fold 5 / 5\n",
      "****************************************************************************\n",
      "MI feature selection...\n",
      "Validation AUC increased (0.000000 --> 0.550000).  Saving model ...\n",
      "Validation AUC increased (0.550000 --> 0.650000).  Saving model ...\n",
      "Validation AUC increased (0.650000 --> 0.700000).  Saving model ...\n",
      "Validation AUC increased (0.700000 --> 0.750000).  Saving model ...\n",
      "Validation AUC increased (0.750000 --> 0.850000).  Saving model ...\n",
      "Validation AUC increased (0.850000 --> 0.900000).  Saving model ...\n"
     ]
    }
   ],
   "source": [
    "train = train_kfold3(trainArgs)\n",
    "result = train.kfold()"
   ]
  },
  {
   "cell_type": "code",
   "execution_count": 7,
   "id": "c51a2bdb-b099-48d5-a448-3df1f2d04e6f",
   "metadata": {},
   "outputs": [
    {
     "data": {
      "text/html": [
       "<div>\n",
       "<style scoped>\n",
       "    .dataframe tbody tr th:only-of-type {\n",
       "        vertical-align: middle;\n",
       "    }\n",
       "\n",
       "    .dataframe tbody tr th {\n",
       "        vertical-align: top;\n",
       "    }\n",
       "\n",
       "    .dataframe thead th {\n",
       "        text-align: right;\n",
       "    }\n",
       "</style>\n",
       "<table border=\"1\" class=\"dataframe\">\n",
       "  <thead>\n",
       "    <tr style=\"text-align: right;\">\n",
       "      <th></th>\n",
       "      <th>hyperparam</th>\n",
       "      <th>Fold</th>\n",
       "      <th>Valid_AUC</th>\n",
       "      <th>Valid_Precision</th>\n",
       "      <th>Valid_Recall</th>\n",
       "      <th>Valid_F1</th>\n",
       "      <th>Test_AUC</th>\n",
       "      <th>Test_Precision</th>\n",
       "      <th>Test_Recall</th>\n",
       "      <th>Test_F1</th>\n",
       "      <th>Test_PrAUC</th>\n",
       "    </tr>\n",
       "  </thead>\n",
       "  <tbody>\n",
       "    <tr>\n",
       "      <th>0</th>\n",
       "      <td>lr:0.001 / num_fc:32</td>\n",
       "      <td>0</td>\n",
       "      <td>0.65</td>\n",
       "      <td>0.750000</td>\n",
       "      <td>0.75</td>\n",
       "      <td>0.750000</td>\n",
       "      <td>0.81</td>\n",
       "      <td>0.714286</td>\n",
       "      <td>1.0</td>\n",
       "      <td>0.833333</td>\n",
       "      <td>0.823755</td>\n",
       "    </tr>\n",
       "    <tr>\n",
       "      <th>1</th>\n",
       "      <td>lr:0.001 / num_fc:32</td>\n",
       "      <td>1</td>\n",
       "      <td>0.60</td>\n",
       "      <td>0.571429</td>\n",
       "      <td>1.00</td>\n",
       "      <td>0.727273</td>\n",
       "      <td>0.53</td>\n",
       "      <td>0.529412</td>\n",
       "      <td>0.9</td>\n",
       "      <td>0.666667</td>\n",
       "      <td>0.564010</td>\n",
       "    </tr>\n",
       "    <tr>\n",
       "      <th>2</th>\n",
       "      <td>lr:0.001 / num_fc:32</td>\n",
       "      <td>2</td>\n",
       "      <td>0.65</td>\n",
       "      <td>0.750000</td>\n",
       "      <td>0.75</td>\n",
       "      <td>0.750000</td>\n",
       "      <td>0.74</td>\n",
       "      <td>0.800000</td>\n",
       "      <td>0.8</td>\n",
       "      <td>0.800000</td>\n",
       "      <td>0.807148</td>\n",
       "    </tr>\n",
       "    <tr>\n",
       "      <th>3</th>\n",
       "      <td>lr:0.001 / num_fc:32</td>\n",
       "      <td>3</td>\n",
       "      <td>0.60</td>\n",
       "      <td>0.571429</td>\n",
       "      <td>1.00</td>\n",
       "      <td>0.727273</td>\n",
       "      <td>0.50</td>\n",
       "      <td>0.562500</td>\n",
       "      <td>0.9</td>\n",
       "      <td>0.692308</td>\n",
       "      <td>0.601430</td>\n",
       "    </tr>\n",
       "    <tr>\n",
       "      <th>4</th>\n",
       "      <td>lr:0.001 / num_fc:32</td>\n",
       "      <td>4</td>\n",
       "      <td>0.90</td>\n",
       "      <td>0.800000</td>\n",
       "      <td>1.00</td>\n",
       "      <td>0.888889</td>\n",
       "      <td>0.45</td>\n",
       "      <td>0.526316</td>\n",
       "      <td>1.0</td>\n",
       "      <td>0.689655</td>\n",
       "      <td>0.491027</td>\n",
       "    </tr>\n",
       "  </tbody>\n",
       "</table>\n",
       "</div>"
      ],
      "text/plain": [
       "             hyperparam Fold  Valid_AUC  Valid_Precision  Valid_Recall  \\\n",
       "0  lr:0.001 / num_fc:32    0       0.65         0.750000          0.75   \n",
       "1  lr:0.001 / num_fc:32    1       0.60         0.571429          1.00   \n",
       "2  lr:0.001 / num_fc:32    2       0.65         0.750000          0.75   \n",
       "3  lr:0.001 / num_fc:32    3       0.60         0.571429          1.00   \n",
       "4  lr:0.001 / num_fc:32    4       0.90         0.800000          1.00   \n",
       "\n",
       "   Valid_F1  Test_AUC  Test_Precision  Test_Recall   Test_F1  Test_PrAUC  \n",
       "0  0.750000      0.81        0.714286          1.0  0.833333    0.823755  \n",
       "1  0.727273      0.53        0.529412          0.9  0.666667    0.564010  \n",
       "2  0.750000      0.74        0.800000          0.8  0.800000    0.807148  \n",
       "3  0.727273      0.50        0.562500          0.9  0.692308    0.601430  \n",
       "4  0.888889      0.45        0.526316          1.0  0.689655    0.491027  "
      ]
     },
     "execution_count": 7,
     "metadata": {},
     "output_type": "execute_result"
    }
   ],
   "source": [
    "result"
   ]
  },
  {
   "cell_type": "code",
   "execution_count": 8,
   "id": "fc7665a6-a2fc-49e1-bc99-3301a8e1438e",
   "metadata": {},
   "outputs": [],
   "source": [
    "result.to_csv(\"./result_GOBP_new2.csv\")"
   ]
  },
  {
   "cell_type": "code",
   "execution_count": null,
   "id": "11ccb55d-4140-4b80-b7db-349fc352617a",
   "metadata": {},
   "outputs": [],
   "source": []
  }
 ],
 "metadata": {
  "kernelspec": {
   "display_name": "torch2",
   "language": "python",
   "name": "torch"
  },
  "language_info": {
   "codemirror_mode": {
    "name": "ipython",
    "version": 3
   },
   "file_extension": ".py",
   "mimetype": "text/x-python",
   "name": "python",
   "nbconvert_exporter": "python",
   "pygments_lexer": "ipython3",
   "version": "3.8.17"
  }
 },
 "nbformat": 4,
 "nbformat_minor": 5
}
