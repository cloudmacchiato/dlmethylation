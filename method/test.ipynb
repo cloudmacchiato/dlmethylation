{
 "cells": [
  {
   "cell_type": "code",
   "execution_count": 1,
   "id": "85eedf7f",
   "metadata": {},
   "outputs": [],
   "source": [
    "import os, torch\n",
    "import numpy as np\n",
    "import pandas as pd\n",
    "from torch import nn\n",
    "import torch.nn.functional as F\n",
    "from sklearn.preprocessing import MinMaxScaler\n",
    "import matplotlib.pyplot as plt"
   ]
  },
  {
   "cell_type": "code",
   "execution_count": 2,
   "id": "86269923-dabc-41d8-92a2-ff607a9d3de7",
   "metadata": {
    "tags": []
   },
   "outputs": [
    {
     "ename": "FileNotFoundError",
     "evalue": "[Errno 2] No such file or directory: '../../data/pathway_kegg.csv'",
     "output_type": "error",
     "traceback": [
      "\u001b[0;31m---------------------------------------------------------------------------\u001b[0m",
      "\u001b[0;31mFileNotFoundError\u001b[0m                         Traceback (most recent call last)",
      "Cell \u001b[0;32mIn[2], line 1\u001b[0m\n\u001b[0;32m----> 1\u001b[0m \u001b[38;5;28;01mfrom\u001b[39;00m \u001b[38;5;21;01mdataPre\u001b[39;00m \u001b[38;5;28;01mimport\u001b[39;00m \u001b[38;5;241m*\u001b[39m\n",
      "File \u001b[0;32m~/meth_path/brca/dlmethylation/method/dataPre.py:57\u001b[0m\n\u001b[1;32m     55\u001b[0m pathway \u001b[38;5;241m=\u001b[39m \u001b[38;5;124m\"\u001b[39m\u001b[38;5;124mKEGG\u001b[39m\u001b[38;5;124m\"\u001b[39m\n\u001b[1;32m     56\u001b[0m tissue \u001b[38;5;241m=\u001b[39m \u001b[38;5;124m\"\u001b[39m\u001b[38;5;124mbrca\u001b[39m\u001b[38;5;124m\"\u001b[39m\n\u001b[0;32m---> 57\u001b[0m pathway_info, expression, status, features \u001b[38;5;241m=\u001b[39m \u001b[43mpreprocessing\u001b[49m\u001b[43m(\u001b[49m\u001b[43mpathway\u001b[49m\u001b[43m,\u001b[49m\u001b[43m \u001b[49m\u001b[43mtissue\u001b[49m\u001b[43m)\u001b[49m\n\u001b[1;32m     59\u001b[0m trainArgs \u001b[38;5;241m=\u001b[39m {}\n\u001b[1;32m     60\u001b[0m trainArgs[\u001b[38;5;124m'\u001b[39m\u001b[38;5;124mx_data\u001b[39m\u001b[38;5;124m'\u001b[39m] \u001b[38;5;241m=\u001b[39m expression\n",
      "File \u001b[0;32m~/meth_path/brca/dlmethylation/method/dataPre.py:14\u001b[0m, in \u001b[0;36mpreprocessing\u001b[0;34m(path, tissue)\u001b[0m\n\u001b[1;32m     12\u001b[0m     pathway \u001b[38;5;241m=\u001b[39m pd\u001b[38;5;241m.\u001b[39mread_csv(\u001b[38;5;124m\"\u001b[39m\u001b[38;5;124m../../data/pathway_gobp.csv\u001b[39m\u001b[38;5;124m\"\u001b[39m, header\u001b[38;5;241m=\u001b[39m\u001b[38;5;241m0\u001b[39m)\n\u001b[1;32m     13\u001b[0m \u001b[38;5;28;01melif\u001b[39;00m (path \u001b[38;5;241m==\u001b[39m \u001b[38;5;124m\"\u001b[39m\u001b[38;5;124mKEGG\u001b[39m\u001b[38;5;124m\"\u001b[39m):\n\u001b[0;32m---> 14\u001b[0m     pathway \u001b[38;5;241m=\u001b[39m \u001b[43mpd\u001b[49m\u001b[38;5;241;43m.\u001b[39;49m\u001b[43mread_csv\u001b[49m\u001b[43m(\u001b[49m\u001b[38;5;124;43m\"\u001b[39;49m\u001b[38;5;124;43m../../data/pathway_kegg.csv\u001b[39;49m\u001b[38;5;124;43m\"\u001b[39;49m\u001b[43m,\u001b[49m\u001b[43m \u001b[49m\u001b[43mheader\u001b[49m\u001b[38;5;241;43m=\u001b[39;49m\u001b[38;5;241;43m0\u001b[39;49m\u001b[43m)\u001b[49m       \n\u001b[1;32m     15\u001b[0m \u001b[38;5;28mprint\u001b[39m(\u001b[38;5;124m\"\u001b[39m\u001b[38;5;124m>> Pathway Data :\u001b[39m\u001b[38;5;124m\"\u001b[39m,path)\n\u001b[1;32m     17\u001b[0m pathway_info \u001b[38;5;241m=\u001b[39m pathway\u001b[38;5;241m.\u001b[39miloc[:,\u001b[38;5;241m1\u001b[39m:]\n",
      "File \u001b[0;32m~/.local/lib/python3.8/site-packages/pandas/io/parsers/readers.py:912\u001b[0m, in \u001b[0;36mread_csv\u001b[0;34m(filepath_or_buffer, sep, delimiter, header, names, index_col, usecols, dtype, engine, converters, true_values, false_values, skipinitialspace, skiprows, skipfooter, nrows, na_values, keep_default_na, na_filter, verbose, skip_blank_lines, parse_dates, infer_datetime_format, keep_date_col, date_parser, date_format, dayfirst, cache_dates, iterator, chunksize, compression, thousands, decimal, lineterminator, quotechar, quoting, doublequote, escapechar, comment, encoding, encoding_errors, dialect, on_bad_lines, delim_whitespace, low_memory, memory_map, float_precision, storage_options, dtype_backend)\u001b[0m\n\u001b[1;32m    899\u001b[0m kwds_defaults \u001b[38;5;241m=\u001b[39m _refine_defaults_read(\n\u001b[1;32m    900\u001b[0m     dialect,\n\u001b[1;32m    901\u001b[0m     delimiter,\n\u001b[0;32m   (...)\u001b[0m\n\u001b[1;32m    908\u001b[0m     dtype_backend\u001b[38;5;241m=\u001b[39mdtype_backend,\n\u001b[1;32m    909\u001b[0m )\n\u001b[1;32m    910\u001b[0m kwds\u001b[38;5;241m.\u001b[39mupdate(kwds_defaults)\n\u001b[0;32m--> 912\u001b[0m \u001b[38;5;28;01mreturn\u001b[39;00m \u001b[43m_read\u001b[49m\u001b[43m(\u001b[49m\u001b[43mfilepath_or_buffer\u001b[49m\u001b[43m,\u001b[49m\u001b[43m \u001b[49m\u001b[43mkwds\u001b[49m\u001b[43m)\u001b[49m\n",
      "File \u001b[0;32m~/.local/lib/python3.8/site-packages/pandas/io/parsers/readers.py:577\u001b[0m, in \u001b[0;36m_read\u001b[0;34m(filepath_or_buffer, kwds)\u001b[0m\n\u001b[1;32m    574\u001b[0m _validate_names(kwds\u001b[38;5;241m.\u001b[39mget(\u001b[38;5;124m\"\u001b[39m\u001b[38;5;124mnames\u001b[39m\u001b[38;5;124m\"\u001b[39m, \u001b[38;5;28;01mNone\u001b[39;00m))\n\u001b[1;32m    576\u001b[0m \u001b[38;5;66;03m# Create the parser.\u001b[39;00m\n\u001b[0;32m--> 577\u001b[0m parser \u001b[38;5;241m=\u001b[39m \u001b[43mTextFileReader\u001b[49m\u001b[43m(\u001b[49m\u001b[43mfilepath_or_buffer\u001b[49m\u001b[43m,\u001b[49m\u001b[43m \u001b[49m\u001b[38;5;241;43m*\u001b[39;49m\u001b[38;5;241;43m*\u001b[39;49m\u001b[43mkwds\u001b[49m\u001b[43m)\u001b[49m\n\u001b[1;32m    579\u001b[0m \u001b[38;5;28;01mif\u001b[39;00m chunksize \u001b[38;5;129;01mor\u001b[39;00m iterator:\n\u001b[1;32m    580\u001b[0m     \u001b[38;5;28;01mreturn\u001b[39;00m parser\n",
      "File \u001b[0;32m~/.local/lib/python3.8/site-packages/pandas/io/parsers/readers.py:1407\u001b[0m, in \u001b[0;36mTextFileReader.__init__\u001b[0;34m(self, f, engine, **kwds)\u001b[0m\n\u001b[1;32m   1404\u001b[0m     \u001b[38;5;28mself\u001b[39m\u001b[38;5;241m.\u001b[39moptions[\u001b[38;5;124m\"\u001b[39m\u001b[38;5;124mhas_index_names\u001b[39m\u001b[38;5;124m\"\u001b[39m] \u001b[38;5;241m=\u001b[39m kwds[\u001b[38;5;124m\"\u001b[39m\u001b[38;5;124mhas_index_names\u001b[39m\u001b[38;5;124m\"\u001b[39m]\n\u001b[1;32m   1406\u001b[0m \u001b[38;5;28mself\u001b[39m\u001b[38;5;241m.\u001b[39mhandles: IOHandles \u001b[38;5;241m|\u001b[39m \u001b[38;5;28;01mNone\u001b[39;00m \u001b[38;5;241m=\u001b[39m \u001b[38;5;28;01mNone\u001b[39;00m\n\u001b[0;32m-> 1407\u001b[0m \u001b[38;5;28mself\u001b[39m\u001b[38;5;241m.\u001b[39m_engine \u001b[38;5;241m=\u001b[39m \u001b[38;5;28;43mself\u001b[39;49m\u001b[38;5;241;43m.\u001b[39;49m\u001b[43m_make_engine\u001b[49m\u001b[43m(\u001b[49m\u001b[43mf\u001b[49m\u001b[43m,\u001b[49m\u001b[43m \u001b[49m\u001b[38;5;28;43mself\u001b[39;49m\u001b[38;5;241;43m.\u001b[39;49m\u001b[43mengine\u001b[49m\u001b[43m)\u001b[49m\n",
      "File \u001b[0;32m~/.local/lib/python3.8/site-packages/pandas/io/parsers/readers.py:1661\u001b[0m, in \u001b[0;36mTextFileReader._make_engine\u001b[0;34m(self, f, engine)\u001b[0m\n\u001b[1;32m   1659\u001b[0m     \u001b[38;5;28;01mif\u001b[39;00m \u001b[38;5;124m\"\u001b[39m\u001b[38;5;124mb\u001b[39m\u001b[38;5;124m\"\u001b[39m \u001b[38;5;129;01mnot\u001b[39;00m \u001b[38;5;129;01min\u001b[39;00m mode:\n\u001b[1;32m   1660\u001b[0m         mode \u001b[38;5;241m+\u001b[39m\u001b[38;5;241m=\u001b[39m \u001b[38;5;124m\"\u001b[39m\u001b[38;5;124mb\u001b[39m\u001b[38;5;124m\"\u001b[39m\n\u001b[0;32m-> 1661\u001b[0m \u001b[38;5;28mself\u001b[39m\u001b[38;5;241m.\u001b[39mhandles \u001b[38;5;241m=\u001b[39m \u001b[43mget_handle\u001b[49m\u001b[43m(\u001b[49m\n\u001b[1;32m   1662\u001b[0m \u001b[43m    \u001b[49m\u001b[43mf\u001b[49m\u001b[43m,\u001b[49m\n\u001b[1;32m   1663\u001b[0m \u001b[43m    \u001b[49m\u001b[43mmode\u001b[49m\u001b[43m,\u001b[49m\n\u001b[1;32m   1664\u001b[0m \u001b[43m    \u001b[49m\u001b[43mencoding\u001b[49m\u001b[38;5;241;43m=\u001b[39;49m\u001b[38;5;28;43mself\u001b[39;49m\u001b[38;5;241;43m.\u001b[39;49m\u001b[43moptions\u001b[49m\u001b[38;5;241;43m.\u001b[39;49m\u001b[43mget\u001b[49m\u001b[43m(\u001b[49m\u001b[38;5;124;43m\"\u001b[39;49m\u001b[38;5;124;43mencoding\u001b[39;49m\u001b[38;5;124;43m\"\u001b[39;49m\u001b[43m,\u001b[49m\u001b[43m \u001b[49m\u001b[38;5;28;43;01mNone\u001b[39;49;00m\u001b[43m)\u001b[49m\u001b[43m,\u001b[49m\n\u001b[1;32m   1665\u001b[0m \u001b[43m    \u001b[49m\u001b[43mcompression\u001b[49m\u001b[38;5;241;43m=\u001b[39;49m\u001b[38;5;28;43mself\u001b[39;49m\u001b[38;5;241;43m.\u001b[39;49m\u001b[43moptions\u001b[49m\u001b[38;5;241;43m.\u001b[39;49m\u001b[43mget\u001b[49m\u001b[43m(\u001b[49m\u001b[38;5;124;43m\"\u001b[39;49m\u001b[38;5;124;43mcompression\u001b[39;49m\u001b[38;5;124;43m\"\u001b[39;49m\u001b[43m,\u001b[49m\u001b[43m \u001b[49m\u001b[38;5;28;43;01mNone\u001b[39;49;00m\u001b[43m)\u001b[49m\u001b[43m,\u001b[49m\n\u001b[1;32m   1666\u001b[0m \u001b[43m    \u001b[49m\u001b[43mmemory_map\u001b[49m\u001b[38;5;241;43m=\u001b[39;49m\u001b[38;5;28;43mself\u001b[39;49m\u001b[38;5;241;43m.\u001b[39;49m\u001b[43moptions\u001b[49m\u001b[38;5;241;43m.\u001b[39;49m\u001b[43mget\u001b[49m\u001b[43m(\u001b[49m\u001b[38;5;124;43m\"\u001b[39;49m\u001b[38;5;124;43mmemory_map\u001b[39;49m\u001b[38;5;124;43m\"\u001b[39;49m\u001b[43m,\u001b[49m\u001b[43m \u001b[49m\u001b[38;5;28;43;01mFalse\u001b[39;49;00m\u001b[43m)\u001b[49m\u001b[43m,\u001b[49m\n\u001b[1;32m   1667\u001b[0m \u001b[43m    \u001b[49m\u001b[43mis_text\u001b[49m\u001b[38;5;241;43m=\u001b[39;49m\u001b[43mis_text\u001b[49m\u001b[43m,\u001b[49m\n\u001b[1;32m   1668\u001b[0m \u001b[43m    \u001b[49m\u001b[43merrors\u001b[49m\u001b[38;5;241;43m=\u001b[39;49m\u001b[38;5;28;43mself\u001b[39;49m\u001b[38;5;241;43m.\u001b[39;49m\u001b[43moptions\u001b[49m\u001b[38;5;241;43m.\u001b[39;49m\u001b[43mget\u001b[49m\u001b[43m(\u001b[49m\u001b[38;5;124;43m\"\u001b[39;49m\u001b[38;5;124;43mencoding_errors\u001b[39;49m\u001b[38;5;124;43m\"\u001b[39;49m\u001b[43m,\u001b[49m\u001b[43m \u001b[49m\u001b[38;5;124;43m\"\u001b[39;49m\u001b[38;5;124;43mstrict\u001b[39;49m\u001b[38;5;124;43m\"\u001b[39;49m\u001b[43m)\u001b[49m\u001b[43m,\u001b[49m\n\u001b[1;32m   1669\u001b[0m \u001b[43m    \u001b[49m\u001b[43mstorage_options\u001b[49m\u001b[38;5;241;43m=\u001b[39;49m\u001b[38;5;28;43mself\u001b[39;49m\u001b[38;5;241;43m.\u001b[39;49m\u001b[43moptions\u001b[49m\u001b[38;5;241;43m.\u001b[39;49m\u001b[43mget\u001b[49m\u001b[43m(\u001b[49m\u001b[38;5;124;43m\"\u001b[39;49m\u001b[38;5;124;43mstorage_options\u001b[39;49m\u001b[38;5;124;43m\"\u001b[39;49m\u001b[43m,\u001b[49m\u001b[43m \u001b[49m\u001b[38;5;28;43;01mNone\u001b[39;49;00m\u001b[43m)\u001b[49m\u001b[43m,\u001b[49m\n\u001b[1;32m   1670\u001b[0m \u001b[43m\u001b[49m\u001b[43m)\u001b[49m\n\u001b[1;32m   1671\u001b[0m \u001b[38;5;28;01massert\u001b[39;00m \u001b[38;5;28mself\u001b[39m\u001b[38;5;241m.\u001b[39mhandles \u001b[38;5;129;01mis\u001b[39;00m \u001b[38;5;129;01mnot\u001b[39;00m \u001b[38;5;28;01mNone\u001b[39;00m\n\u001b[1;32m   1672\u001b[0m f \u001b[38;5;241m=\u001b[39m \u001b[38;5;28mself\u001b[39m\u001b[38;5;241m.\u001b[39mhandles\u001b[38;5;241m.\u001b[39mhandle\n",
      "File \u001b[0;32m~/.local/lib/python3.8/site-packages/pandas/io/common.py:859\u001b[0m, in \u001b[0;36mget_handle\u001b[0;34m(path_or_buf, mode, encoding, compression, memory_map, is_text, errors, storage_options)\u001b[0m\n\u001b[1;32m    854\u001b[0m \u001b[38;5;28;01melif\u001b[39;00m \u001b[38;5;28misinstance\u001b[39m(handle, \u001b[38;5;28mstr\u001b[39m):\n\u001b[1;32m    855\u001b[0m     \u001b[38;5;66;03m# Check whether the filename is to be opened in binary mode.\u001b[39;00m\n\u001b[1;32m    856\u001b[0m     \u001b[38;5;66;03m# Binary mode does not support 'encoding' and 'newline'.\u001b[39;00m\n\u001b[1;32m    857\u001b[0m     \u001b[38;5;28;01mif\u001b[39;00m ioargs\u001b[38;5;241m.\u001b[39mencoding \u001b[38;5;129;01mand\u001b[39;00m \u001b[38;5;124m\"\u001b[39m\u001b[38;5;124mb\u001b[39m\u001b[38;5;124m\"\u001b[39m \u001b[38;5;129;01mnot\u001b[39;00m \u001b[38;5;129;01min\u001b[39;00m ioargs\u001b[38;5;241m.\u001b[39mmode:\n\u001b[1;32m    858\u001b[0m         \u001b[38;5;66;03m# Encoding\u001b[39;00m\n\u001b[0;32m--> 859\u001b[0m         handle \u001b[38;5;241m=\u001b[39m \u001b[38;5;28;43mopen\u001b[39;49m\u001b[43m(\u001b[49m\n\u001b[1;32m    860\u001b[0m \u001b[43m            \u001b[49m\u001b[43mhandle\u001b[49m\u001b[43m,\u001b[49m\n\u001b[1;32m    861\u001b[0m \u001b[43m            \u001b[49m\u001b[43mioargs\u001b[49m\u001b[38;5;241;43m.\u001b[39;49m\u001b[43mmode\u001b[49m\u001b[43m,\u001b[49m\n\u001b[1;32m    862\u001b[0m \u001b[43m            \u001b[49m\u001b[43mencoding\u001b[49m\u001b[38;5;241;43m=\u001b[39;49m\u001b[43mioargs\u001b[49m\u001b[38;5;241;43m.\u001b[39;49m\u001b[43mencoding\u001b[49m\u001b[43m,\u001b[49m\n\u001b[1;32m    863\u001b[0m \u001b[43m            \u001b[49m\u001b[43merrors\u001b[49m\u001b[38;5;241;43m=\u001b[39;49m\u001b[43merrors\u001b[49m\u001b[43m,\u001b[49m\n\u001b[1;32m    864\u001b[0m \u001b[43m            \u001b[49m\u001b[43mnewline\u001b[49m\u001b[38;5;241;43m=\u001b[39;49m\u001b[38;5;124;43m\"\u001b[39;49m\u001b[38;5;124;43m\"\u001b[39;49m\u001b[43m,\u001b[49m\n\u001b[1;32m    865\u001b[0m \u001b[43m        \u001b[49m\u001b[43m)\u001b[49m\n\u001b[1;32m    866\u001b[0m     \u001b[38;5;28;01melse\u001b[39;00m:\n\u001b[1;32m    867\u001b[0m         \u001b[38;5;66;03m# Binary mode\u001b[39;00m\n\u001b[1;32m    868\u001b[0m         handle \u001b[38;5;241m=\u001b[39m \u001b[38;5;28mopen\u001b[39m(handle, ioargs\u001b[38;5;241m.\u001b[39mmode)\n",
      "\u001b[0;31mFileNotFoundError\u001b[0m: [Errno 2] No such file or directory: '../../data/pathway_kegg.csv'"
     ]
    }
   ],
   "source": [
    "from dataPre import *"
   ]
  },
  {
   "cell_type": "code",
   "execution_count": null,
   "id": "77156f32-9fb4-4b67-a71e-99314accdbd5",
   "metadata": {
    "tags": []
   },
   "outputs": [],
   "source": [
    "trainArgs = {}\n",
    "trainArgs['x_data'] = expression\n",
    "trainArgs['y_data'] = status\n",
    "trainArgs['pathway_info'] = pathway_info\n",
    "trainArgs['features'] = features\n",
    "trainArgs['num_fc_list'] = [32, 64, 128]\n",
    "trainArgs['lr_list'] = [0.0001,0.0005,0.001]\n",
    "#trainArgs['num_fc_list'] = [32]\n",
    "#trainArgs['lr_list'] = [0.0001]\n",
    "trainArgs['device'] = '0'\n",
    "trainArgs['seed'] = 0\n",
    "trainArgs['pathway'] = pathway\n",
    "trainArgs['tissue'] = tissue\n",
    "trainArgs['filename'] = 'result.csv'"
   ]
  },
  {
   "cell_type": "markdown",
   "id": "1c8955cb",
   "metadata": {},
   "source": [
    "## Training (check the device first!)"
   ]
  },
  {
   "cell_type": "code",
   "execution_count": 4,
   "id": "c904f1f0",
   "metadata": {},
   "outputs": [
    {
     "name": "stderr",
     "output_type": "stream",
     "text": [
      "Using `tqdm.autonotebook.tqdm` in notebook mode. Use `tqdm.tqdm` instead to force console mode (e.g. in jupyter console)\n"
     ]
    }
   ],
   "source": [
    "from train import *"
   ]
  },
  {
   "cell_type": "code",
   "execution_count": 5,
   "id": "cc7bd102",
   "metadata": {},
   "outputs": [],
   "source": [
    "train = train_kfold(trainArgs)"
   ]
  },
  {
   "cell_type": "code",
   "execution_count": 6,
   "id": "8e58332b",
   "metadata": {},
   "outputs": [
    {
     "name": "stdout",
     "output_type": "stream",
     "text": [
      "****************************************************************************\n",
      "Fold 1 / 5\n",
      "****************************************************************************\n",
      "Validation AUC increased (0.000000 --> 0.892857).  Saving model ...\n",
      "Validation AUC increased (0.892857 --> 0.919048).  Saving model ...\n",
      "Validation AUC increased (0.919048 --> 0.976190).  Saving model ...\n",
      "Validation AUC increased (0.976190 --> 0.983333).  Saving model ...\n",
      "Validation AUC increased (0.983333 --> 0.985714).  Saving model ...\n",
      "Validation AUC increased (0.985714 --> 0.992857).  Saving model ...\n",
      "Validation AUC increased (0.992857 --> 0.995238).  Saving model ...\n",
      "Validation AUC increased (0.995238 --> 0.997619).  Saving model ...\n",
      "Validation AUC increased (0.997619 --> 1.000000).  Saving model ...\n",
      "Validation AUC increased (0.000000 --> 1.000000).  Saving model ...\n",
      "Validation AUC increased (0.000000 --> 0.892857).  Saving model ...\n",
      "Validation AUC increased (0.892857 --> 0.940476).  Saving model ...\n",
      "Validation AUC increased (0.940476 --> 0.973810).  Saving model ...\n",
      "Validation AUC increased (0.973810 --> 0.976190).  Saving model ...\n",
      "Validation AUC increased (0.976190 --> 0.980952).  Saving model ...\n",
      "Validation AUC increased (0.980952 --> 0.983333).  Saving model ...\n",
      "Validation AUC increased (0.983333 --> 0.985714).  Saving model ...\n",
      "Validation AUC increased (0.985714 --> 0.990476).  Saving model ...\n",
      "Validation AUC increased (0.000000 --> 0.866667).  Saving model ...\n",
      "Validation AUC increased (0.866667 --> 0.919048).  Saving model ...\n",
      "Validation AUC increased (0.919048 --> 0.957143).  Saving model ...\n",
      "Validation AUC increased (0.957143 --> 0.964286).  Saving model ...\n",
      "Validation AUC increased (0.964286 --> 0.969048).  Saving model ...\n",
      "Validation AUC increased (0.969048 --> 0.976190).  Saving model ...\n",
      "Validation AUC increased (0.000000 --> 0.957143).  Saving model ...\n",
      "Validation AUC increased (0.957143 --> 0.976190).  Saving model ...\n",
      "Validation AUC increased (0.976190 --> 0.983333).  Saving model ...\n",
      "Validation AUC increased (0.983333 --> 0.985714).  Saving model ...\n",
      "Validation AUC increased (0.985714 --> 0.992857).  Saving model ...\n",
      "Validation AUC increased (0.992857 --> 0.992857).  Saving model ...\n",
      "Validation AUC increased (0.992857 --> 0.995238).  Saving model ...\n",
      "Validation AUC increased (0.995238 --> 0.997619).  Saving model ...\n",
      "Validation AUC increased (0.997619 --> 1.000000).  Saving model ...\n",
      "Validation AUC increased (0.000000 --> 0.973810).  Saving model ...\n",
      "Validation AUC increased (0.973810 --> 0.983333).  Saving model ...\n",
      "Validation AUC increased (0.983333 --> 0.990476).  Saving model ...\n",
      "Validation AUC increased (0.990476 --> 0.995238).  Saving model ...\n",
      "Validation AUC increased (0.995238 --> 0.997619).  Saving model ...\n",
      "Validation AUC increased (0.997619 --> 1.000000).  Saving model ...\n",
      "Validation AUC increased (0.000000 --> 0.950000).  Saving model ...\n",
      "Validation AUC increased (0.950000 --> 0.959524).  Saving model ...\n",
      "Validation AUC increased (0.959524 --> 0.966667).  Saving model ...\n",
      "Validation AUC increased (0.966667 --> 0.969048).  Saving model ...\n",
      "Validation AUC increased (0.969048 --> 0.973810).  Saving model ...\n",
      "Validation AUC increased (0.973810 --> 0.978571).  Saving model ...\n",
      "Validation AUC increased (0.978571 --> 0.980952).  Saving model ...\n",
      "Validation AUC increased (0.980952 --> 0.980952).  Saving model ...\n",
      "Validation AUC increased (0.980952 --> 0.985714).  Saving model ...\n",
      "Validation AUC increased (0.000000 --> 0.988095).  Saving model ...\n",
      "Validation AUC increased (0.988095 --> 0.992857).  Saving model ...\n",
      "Validation AUC increased (0.992857 --> 0.997619).  Saving model ...\n",
      "Validation AUC increased (0.997619 --> 1.000000).  Saving model ...\n",
      "Validation AUC increased (0.000000 --> 0.928571).  Saving model ...\n",
      "Validation AUC increased (0.928571 --> 0.935714).  Saving model ...\n",
      "Validation AUC increased (0.935714 --> 0.957143).  Saving model ...\n",
      "Validation AUC increased (0.957143 --> 0.966667).  Saving model ...\n",
      "Validation AUC increased (0.966667 --> 0.969048).  Saving model ...\n",
      "Validation AUC increased (0.969048 --> 0.971429).  Saving model ...\n",
      "Validation AUC increased (0.971429 --> 0.971429).  Saving model ...\n",
      "Validation AUC increased (0.971429 --> 0.973810).  Saving model ...\n",
      "Validation AUC increased (0.973810 --> 0.973810).  Saving model ...\n",
      "Validation AUC increased (0.973810 --> 0.976190).  Saving model ...\n",
      "Validation AUC increased (0.976190 --> 0.978571).  Saving model ...\n",
      "Validation AUC increased (0.978571 --> 0.980952).  Saving model ...\n",
      "Validation AUC increased (0.000000 --> 0.959524).  Saving model ...\n",
      "Validation AUC increased (0.959524 --> 0.978571).  Saving model ...\n",
      "Validation AUC increased (0.978571 --> 0.985714).  Saving model ...\n",
      "Validation AUC increased (0.985714 --> 0.988095).  Saving model ...\n",
      "Validation AUC increased (0.000000 --> 0.897619).  Saving model ...\n",
      "Validation AUC increased (0.897619 --> 0.990476).  Saving model ...\n",
      "Validation AUC increased (0.990476 --> 1.000000).  Saving model ...\n",
      "Validation AUC increased (0.000000 --> 1.000000).  Saving model ...\n",
      "Validation AUC increased (0.000000 --> 0.940476).  Saving model ...\n",
      "Validation AUC increased (0.940476 --> 0.952381).  Saving model ...\n",
      "Validation AUC increased (0.952381 --> 0.978571).  Saving model ...\n",
      "Validation AUC increased (0.978571 --> 0.980952).  Saving model ...\n",
      "Validation AUC increased (0.980952 --> 0.983333).  Saving model ...\n",
      "Validation AUC increased (0.983333 --> 0.988095).  Saving model ...\n",
      "Validation AUC increased (0.988095 --> 0.992857).  Saving model ...\n",
      "Validation AUC increased (0.992857 --> 0.995238).  Saving model ...\n",
      "Validation AUC increased (0.995238 --> 0.997619).  Saving model ...\n",
      "Validation AUC increased (0.997619 --> 1.000000).  Saving model ...\n",
      "Validation AUC increased (0.000000 --> 0.845238).  Saving model ...\n",
      "Validation AUC increased (0.845238 --> 0.909524).  Saving model ...\n",
      "Validation AUC increased (0.909524 --> 0.947619).  Saving model ...\n",
      "Validation AUC increased (0.947619 --> 0.952381).  Saving model ...\n",
      "Validation AUC increased (0.000000 --> 0.957143).  Saving model ...\n",
      "Validation AUC increased (0.957143 --> 0.978571).  Saving model ...\n",
      "Validation AUC increased (0.978571 --> 0.988095).  Saving model ...\n",
      "Validation AUC increased (0.988095 --> 0.990476).  Saving model ...\n",
      "Validation AUC increased (0.990476 --> 0.995238).  Saving model ...\n",
      "Validation AUC increased (0.995238 --> 0.995238).  Saving model ...\n",
      "Validation AUC increased (0.995238 --> 0.997619).  Saving model ...\n",
      "Validation AUC increased (0.997619 --> 1.000000).  Saving model ...\n",
      "Validation AUC increased (0.000000 --> 0.978571).  Saving model ...\n",
      "Validation AUC increased (0.978571 --> 0.983333).  Saving model ...\n",
      "Validation AUC increased (0.983333 --> 0.985714).  Saving model ...\n",
      "Validation AUC increased (0.985714 --> 0.988095).  Saving model ...\n",
      "Validation AUC increased (0.988095 --> 0.990476).  Saving model ...\n",
      "Validation AUC increased (0.990476 --> 0.992857).  Saving model ...\n",
      "Validation AUC increased (0.992857 --> 0.995238).  Saving model ...\n",
      "Validation AUC increased (0.995238 --> 1.000000).  Saving model ...\n",
      "Validation AUC increased (0.000000 --> 0.964286).  Saving model ...\n",
      "Validation AUC increased (0.964286 --> 0.969048).  Saving model ...\n",
      "Validation AUC increased (0.969048 --> 0.971429).  Saving model ...\n",
      "Validation AUC increased (0.971429 --> 0.973810).  Saving model ...\n",
      "Validation AUC increased (0.973810 --> 0.976190).  Saving model ...\n",
      "Validation AUC increased (0.976190 --> 0.980952).  Saving model ...\n",
      "Validation AUC increased (0.980952 --> 0.983333).  Saving model ...\n",
      "Validation AUC increased (0.983333 --> 0.983333).  Saving model ...\n",
      "Validation AUC increased (0.983333 --> 0.985714).  Saving model ...\n",
      "Validation AUC increased (0.000000 --> 0.988095).  Saving model ...\n",
      "Validation AUC increased (0.988095 --> 0.992857).  Saving model ...\n",
      "Validation AUC increased (0.992857 --> 0.997619).  Saving model ...\n",
      "Validation AUC increased (0.000000 --> 0.921429).  Saving model ...\n",
      "Validation AUC increased (0.921429 --> 0.938095).  Saving model ...\n",
      "Validation AUC increased (0.938095 --> 0.947619).  Saving model ...\n",
      "Validation AUC increased (0.947619 --> 0.952381).  Saving model ...\n",
      "Validation AUC increased (0.952381 --> 0.957143).  Saving model ...\n",
      "Validation AUC increased (0.957143 --> 0.966667).  Saving model ...\n",
      "Validation AUC increased (0.966667 --> 0.973810).  Saving model ...\n",
      "Validation AUC increased (0.000000 --> 0.954762).  Saving model ...\n",
      "Validation AUC increased (0.954762 --> 0.961905).  Saving model ...\n",
      "Validation AUC increased (0.961905 --> 0.983333).  Saving model ...\n",
      "Validation AUC increased (0.983333 --> 0.992857).  Saving model ...\n",
      "Validation AUC increased (0.992857 --> 0.995238).  Saving model ...\n",
      "Validation AUC increased (0.995238 --> 0.997619).  Saving model ...\n",
      "Validation AUC increased (0.997619 --> 1.000000).  Saving model ...\n",
      "Validation AUC increased (0.000000 --> 0.950000).  Saving model ...\n",
      "Validation AUC increased (0.950000 --> 0.966667).  Saving model ...\n",
      "Validation AUC increased (0.966667 --> 0.980952).  Saving model ...\n",
      "Validation AUC increased (0.980952 --> 0.995238).  Saving model ...\n",
      "Validation AUC increased (0.995238 --> 0.997619).  Saving model ...\n",
      "Validation AUC increased (0.997619 --> 1.000000).  Saving model ...\n",
      "Validation AUC increased (0.000000 --> 0.997619).  Saving model ...\n",
      "Validation AUC increased (0.997619 --> 1.000000).  Saving model ...\n",
      "Validation AUC increased (0.000000 --> 0.957143).  Saving model ...\n",
      "Validation AUC increased (0.957143 --> 0.976190).  Saving model ...\n",
      "Validation AUC increased (0.976190 --> 0.988095).  Saving model ...\n",
      "Validation AUC increased (0.988095 --> 0.990476).  Saving model ...\n",
      "Validation AUC increased (0.990476 --> 0.992857).  Saving model ...\n",
      "Validation AUC increased (0.992857 --> 0.992857).  Saving model ...\n",
      "Validation AUC increased (0.992857 --> 0.995238).  Saving model ...\n",
      "Validation AUC increased (0.000000 --> 0.940476).  Saving model ...\n",
      "Validation AUC increased (0.940476 --> 0.942857).  Saving model ...\n",
      "Validation AUC increased (0.942857 --> 0.950000).  Saving model ...\n",
      "Validation AUC increased (0.950000 --> 0.959524).  Saving model ...\n",
      "Validation AUC increased (0.959524 --> 0.969048).  Saving model ...\n",
      "Validation AUC increased (0.000000 --> 0.973810).  Saving model ...\n",
      "Validation AUC increased (0.973810 --> 0.983333).  Saving model ...\n",
      "Validation AUC increased (0.983333 --> 0.995238).  Saving model ...\n",
      "Validation AUC increased (0.995238 --> 1.000000).  Saving model ...\n",
      "Validation AUC increased (0.000000 --> 0.980952).  Saving model ...\n",
      "Validation AUC increased (0.980952 --> 0.988095).  Saving model ...\n",
      "Validation AUC increased (0.988095 --> 0.992857).  Saving model ...\n",
      "Validation AUC increased (0.992857 --> 0.995238).  Saving model ...\n",
      "Validation AUC increased (0.995238 --> 0.997619).  Saving model ...\n",
      "Validation AUC increased (0.997619 --> 1.000000).  Saving model ...\n",
      "Validation AUC increased (0.000000 --> 0.971429).  Saving model ...\n",
      "Validation AUC increased (0.971429 --> 0.978571).  Saving model ...\n",
      "Validation AUC increased (0.000000 --> 0.990476).  Saving model ...\n",
      "Validation AUC increased (0.990476 --> 0.995238).  Saving model ...\n",
      "Validation AUC increased (0.000000 --> 0.938095).  Saving model ...\n",
      "Validation AUC increased (0.938095 --> 0.957143).  Saving model ...\n",
      "Validation AUC increased (0.957143 --> 0.971429).  Saving model ...\n",
      "Validation AUC increased (0.971429 --> 0.976190).  Saving model ...\n",
      "Validation AUC increased (0.976190 --> 0.976190).  Saving model ...\n",
      "Validation AUC increased (0.976190 --> 0.978571).  Saving model ...\n"
     ]
    },
    {
     "name": "stderr",
     "output_type": "stream",
     "text": [
      "Exception ignored on calling ctypes callback function: <function _ThreadpoolInfo._find_modules_with_dl_iterate_phdr.<locals>.match_module_callback at 0x7f301229d940>\n",
      "Traceback (most recent call last):\n",
      "  File \"/ihome/hpark/laz64/.conda/envs/torch/lib/python3.8/site-packages/threadpoolctl.py\", line 400, in match_module_callback\n",
      "    self._make_module_from_path(filepath)\n",
      "  File \"/ihome/hpark/laz64/.conda/envs/torch/lib/python3.8/site-packages/threadpoolctl.py\", line 515, in _make_module_from_path\n",
      "    module = module_class(filepath, prefix, user_api, internal_api)\n",
      "  File \"/ihome/hpark/laz64/.conda/envs/torch/lib/python3.8/site-packages/threadpoolctl.py\", line 605, in __init__\n",
      "    self._dynlib = ctypes.CDLL(filepath, mode=_RTLD_NOLOAD)\n",
      "  File \"/ihome/hpark/laz64/.conda/envs/torch/lib/python3.8/ctypes/__init__.py\", line 367, in __init__\n",
      "    class _FuncPtr(_CFuncPtr):\n",
      "KeyboardInterrupt: \n"
     ]
    },
    {
     "name": "stdout",
     "output_type": "stream",
     "text": [
      "Validation AUC increased (0.000000 --> 0.978571).  Saving model ...\n",
      "Validation AUC increased (0.978571 --> 0.988095).  Saving model ...\n",
      "Validation AUC increased (0.988095 --> 0.990476).  Saving model ...\n",
      "Validation AUC increased (0.990476 --> 0.992857).  Saving model ...\n",
      "Validation AUC increased (0.992857 --> 0.995238).  Saving model ...\n",
      "Validation AUC increased (0.000000 --> 0.852381).  Saving model ...\n",
      "Validation AUC increased (0.852381 --> 0.923810).  Saving model ...\n",
      "Validation AUC increased (0.923810 --> 0.966667).  Saving model ...\n",
      "Validation AUC increased (0.966667 --> 0.983333).  Saving model ...\n",
      "Validation AUC increased (0.983333 --> 0.997619).  Saving model ...\n"
     ]
    },
    {
     "ename": "KeyboardInterrupt",
     "evalue": "",
     "output_type": "error",
     "traceback": [
      "\u001b[0;31m---------------------------------------------------------------------------\u001b[0m",
      "\u001b[0;31mKeyboardInterrupt\u001b[0m                         Traceback (most recent call last)",
      "Cell \u001b[0;32mIn[6], line 1\u001b[0m\n\u001b[0;32m----> 1\u001b[0m result \u001b[38;5;241m=\u001b[39m \u001b[43mtrain\u001b[49m\u001b[38;5;241;43m.\u001b[39;49m\u001b[43mkfold\u001b[49m\u001b[43m(\u001b[49m\u001b[43m)\u001b[49m\n",
      "File \u001b[0;32m~/meth_path/brca/dlmethylation/method/train.py:111\u001b[0m, in \u001b[0;36mtrain_kfold.kfold\u001b[0;34m(self)\u001b[0m\n\u001b[1;32m    107\u001b[0m     y_true\u001b[38;5;241m.\u001b[39mextend(true\u001b[38;5;241m.\u001b[39mcpu()\u001b[38;5;241m.\u001b[39mnumpy())\n\u001b[1;32m    109\u001b[0m val_auc, _, _, _ \u001b[38;5;241m=\u001b[39m \u001b[38;5;28mself\u001b[39m\u001b[38;5;241m.\u001b[39mevalutaion(y_true,y_prob)\n\u001b[0;32m--> 111\u001b[0m \u001b[43mearly_stopping\u001b[49m\u001b[43m(\u001b[49m\u001b[43mval_auc\u001b[49m\u001b[43m,\u001b[49m\u001b[43m \u001b[49m\u001b[38;5;28;43mself\u001b[39;49m\u001b[38;5;241;43m.\u001b[39;49m\u001b[43mmodel\u001b[49m\u001b[43m,\u001b[49m\u001b[43m \u001b[49m\u001b[43mepoch\u001b[49m\u001b[43m)\u001b[49m\n\u001b[1;32m    112\u001b[0m \u001b[38;5;28;01mif\u001b[39;00m early_stopping\u001b[38;5;241m.\u001b[39mearly_stop:\n\u001b[1;32m    113\u001b[0m     \u001b[38;5;28;01mbreak\u001b[39;00m\n",
      "File \u001b[0;32m~/meth_path/brca/dlmethylation/method/utils.py:27\u001b[0m, in \u001b[0;36mEarlyStopping.__call__\u001b[0;34m(self, val_auc, model, epoch)\u001b[0m\n\u001b[1;32m     25\u001b[0m \u001b[38;5;28;01melif\u001b[39;00m score \u001b[38;5;241m>\u001b[39m \u001b[38;5;28mself\u001b[39m\u001b[38;5;241m.\u001b[39mbest_score \u001b[38;5;241m+\u001b[39m \u001b[38;5;28mself\u001b[39m\u001b[38;5;241m.\u001b[39mdelta:\n\u001b[1;32m     26\u001b[0m     \u001b[38;5;28mself\u001b[39m\u001b[38;5;241m.\u001b[39mbest_score \u001b[38;5;241m=\u001b[39m score\n\u001b[0;32m---> 27\u001b[0m     \u001b[38;5;28;43mself\u001b[39;49m\u001b[38;5;241;43m.\u001b[39;49m\u001b[43msave_checkpoint\u001b[49m\u001b[43m(\u001b[49m\u001b[43mscore\u001b[49m\u001b[43m,\u001b[49m\u001b[43m \u001b[49m\u001b[43mmodel\u001b[49m\u001b[43m)\u001b[49m\n\u001b[1;32m     28\u001b[0m     \u001b[38;5;28mself\u001b[39m\u001b[38;5;241m.\u001b[39mcounter \u001b[38;5;241m=\u001b[39m \u001b[38;5;241m0\u001b[39m\n\u001b[1;32m     29\u001b[0m \u001b[38;5;28;01melse\u001b[39;00m:\n",
      "File \u001b[0;32m~/meth_path/brca/dlmethylation/method/utils.py:37\u001b[0m, in \u001b[0;36mEarlyStopping.save_checkpoint\u001b[0;34m(self, val_auc, model)\u001b[0m\n\u001b[1;32m     35\u001b[0m \u001b[38;5;28;01mif\u001b[39;00m \u001b[38;5;28mself\u001b[39m\u001b[38;5;241m.\u001b[39mverbose:\n\u001b[1;32m     36\u001b[0m     \u001b[38;5;28mprint\u001b[39m(\u001b[38;5;124mf\u001b[39m\u001b[38;5;124m'\u001b[39m\u001b[38;5;124mValidation AUC increased (\u001b[39m\u001b[38;5;132;01m{\u001b[39;00m\u001b[38;5;28mself\u001b[39m\u001b[38;5;241m.\u001b[39mval_auc_min\u001b[38;5;132;01m:\u001b[39;00m\u001b[38;5;124m.6f\u001b[39m\u001b[38;5;132;01m}\u001b[39;00m\u001b[38;5;124m --> \u001b[39m\u001b[38;5;132;01m{\u001b[39;00mval_auc\u001b[38;5;132;01m:\u001b[39;00m\u001b[38;5;124m.6f\u001b[39m\u001b[38;5;132;01m}\u001b[39;00m\u001b[38;5;124m).  Saving model ...\u001b[39m\u001b[38;5;124m'\u001b[39m)\n\u001b[0;32m---> 37\u001b[0m \u001b[43mtorch\u001b[49m\u001b[38;5;241;43m.\u001b[39;49m\u001b[43msave\u001b[49m\u001b[43m(\u001b[49m\u001b[43mmodel\u001b[49m\u001b[43m,\u001b[49m\u001b[43m \u001b[49m\u001b[38;5;28;43mself\u001b[39;49m\u001b[38;5;241;43m.\u001b[39;49m\u001b[43mpath\u001b[49m\u001b[43m)\u001b[49m\n\u001b[1;32m     38\u001b[0m \u001b[38;5;28mself\u001b[39m\u001b[38;5;241m.\u001b[39mval_auc_min \u001b[38;5;241m=\u001b[39m val_auc\n",
      "File \u001b[0;32m~/.conda/envs/torch/lib/python3.8/site-packages/torch/serialization.py:441\u001b[0m, in \u001b[0;36msave\u001b[0;34m(obj, f, pickle_module, pickle_protocol, _use_new_zipfile_serialization)\u001b[0m\n\u001b[1;32m    439\u001b[0m \u001b[38;5;28;01mif\u001b[39;00m _use_new_zipfile_serialization:\n\u001b[1;32m    440\u001b[0m     \u001b[38;5;28;01mwith\u001b[39;00m _open_zipfile_writer(f) \u001b[38;5;28;01mas\u001b[39;00m opened_zipfile:\n\u001b[0;32m--> 441\u001b[0m         \u001b[43m_save\u001b[49m\u001b[43m(\u001b[49m\u001b[43mobj\u001b[49m\u001b[43m,\u001b[49m\u001b[43m \u001b[49m\u001b[43mopened_zipfile\u001b[49m\u001b[43m,\u001b[49m\u001b[43m \u001b[49m\u001b[43mpickle_module\u001b[49m\u001b[43m,\u001b[49m\u001b[43m \u001b[49m\u001b[43mpickle_protocol\u001b[49m\u001b[43m)\u001b[49m\n\u001b[1;32m    442\u001b[0m         \u001b[38;5;28;01mreturn\u001b[39;00m\n\u001b[1;32m    443\u001b[0m \u001b[38;5;28;01melse\u001b[39;00m:\n",
      "File \u001b[0;32m~/.conda/envs/torch/lib/python3.8/site-packages/torch/serialization.py:668\u001b[0m, in \u001b[0;36m_save\u001b[0;34m(obj, zip_file, pickle_module, pickle_protocol)\u001b[0m\n\u001b[1;32m    666\u001b[0m \u001b[38;5;66;03m# Now that it is on the CPU we can directly copy it into the zip file\u001b[39;00m\n\u001b[1;32m    667\u001b[0m num_bytes \u001b[38;5;241m=\u001b[39m storage\u001b[38;5;241m.\u001b[39mnbytes()\n\u001b[0;32m--> 668\u001b[0m \u001b[43mzip_file\u001b[49m\u001b[38;5;241;43m.\u001b[39;49m\u001b[43mwrite_record\u001b[49m\u001b[43m(\u001b[49m\u001b[43mname\u001b[49m\u001b[43m,\u001b[49m\u001b[43m \u001b[49m\u001b[43mstorage\u001b[49m\u001b[38;5;241;43m.\u001b[39;49m\u001b[43mdata_ptr\u001b[49m\u001b[43m(\u001b[49m\u001b[43m)\u001b[49m\u001b[43m,\u001b[49m\u001b[43m \u001b[49m\u001b[43mnum_bytes\u001b[49m\u001b[43m)\u001b[49m\n",
      "\u001b[0;31mKeyboardInterrupt\u001b[0m: "
     ]
    }
   ],
   "source": [
    "result = train.kfold()"
   ]
  },
  {
   "cell_type": "code",
   "execution_count": 3,
   "id": "740d9e31-989d-425a-b597-20e728dfa649",
   "metadata": {
    "tags": []
   },
   "outputs": [],
   "source": [
    "result = pd.read_csv(\"./result_GO.csv\",index_col=0)"
   ]
  },
  {
   "cell_type": "code",
   "execution_count": null,
   "id": "6a8b2231-177a-4a73-9349-97d5cf73ecf0",
   "metadata": {
    "tags": []
   },
   "outputs": [],
   "source": [
    "result"
   ]
  },
  {
   "cell_type": "code",
   "execution_count": null,
   "id": "08272207-036b-4a4e-95ad-e8a26d5584e6",
   "metadata": {},
   "outputs": [],
   "source": [
    "#result.to_csv(\"result.csv\")"
   ]
  },
  {
   "cell_type": "code",
   "execution_count": null,
   "id": "6e2121eb-844f-480b-9518-9e1252ff6fee",
   "metadata": {
    "tags": []
   },
   "outputs": [],
   "source": [
    "result_all = result.copy()"
   ]
  },
  {
   "cell_type": "code",
   "execution_count": 4,
   "id": "0b25e545-187d-4ef7-957c-bfb111d3bbf1",
   "metadata": {
    "tags": []
   },
   "outputs": [
    {
     "ename": "NameError",
     "evalue": "name 'result_all' is not defined",
     "output_type": "error",
     "traceback": [
      "\u001b[0;31m---------------------------------------------------------------------------\u001b[0m",
      "\u001b[0;31mNameError\u001b[0m                                 Traceback (most recent call last)",
      "Cell \u001b[0;32mIn[4], line 1\u001b[0m\n\u001b[0;32m----> 1\u001b[0m \u001b[43mresult_all\u001b[49m\u001b[38;5;241m.\u001b[39mgroupby([\u001b[38;5;124m'\u001b[39m\u001b[38;5;124mhyperparam\u001b[39m\u001b[38;5;124m'\u001b[39m])[\u001b[38;5;124m'\u001b[39m\u001b[38;5;124mValid_AUC\u001b[39m\u001b[38;5;124m'\u001b[39m]\u001b[38;5;241m.\u001b[39mmean()\u001b[38;5;241m.\u001b[39mreset_index()\n",
      "\u001b[0;31mNameError\u001b[0m: name 'result_all' is not defined"
     ]
    }
   ],
   "source": [
    "result_all.groupby(['hyperparam'])['Valid_AUC'].mean().reset_index()"
   ]
  },
  {
   "cell_type": "code",
   "execution_count": null,
   "id": "34edda7e-465b-4edf-bd72-b1d73a243187",
   "metadata": {
    "tags": []
   },
   "outputs": [],
   "source": [
    "result_all.groupby(['hyperparam'])['Test_AUC'].mean().reset_index()"
   ]
  },
  {
   "cell_type": "code",
   "execution_count": null,
   "id": "6de278d8-7ebb-4546-9b31-66c6e12331cf",
   "metadata": {},
   "outputs": [],
   "source": [
    "#result_all[result_all['hyperparam']==\"lr:0.001 / num_fc:32\"].to_csv(\"../../results/KEGG/result_opt.csv\")"
   ]
  },
  {
   "cell_type": "code",
   "execution_count": null,
   "id": "9a6cfa40-4bd8-4eb9-8c3a-b744b3c819db",
   "metadata": {},
   "outputs": [],
   "source": [
    "result_all"
   ]
  },
  {
   "cell_type": "code",
   "execution_count": null,
   "id": "629df1c3-58d7-46d3-b186-17c33032124e",
   "metadata": {
    "tags": []
   },
   "outputs": [],
   "source": [
    "np.mean([1,2,3])"
   ]
  }
 ],
 "metadata": {
  "kernelspec": {
   "display_name": "torch2",
   "language": "python",
   "name": "torch"
  },
  "language_info": {
   "codemirror_mode": {
    "name": "ipython",
    "version": 3
   },
   "file_extension": ".py",
   "mimetype": "text/x-python",
   "name": "python",
   "nbconvert_exporter": "python",
   "pygments_lexer": "ipython3",
   "version": "3.8.17"
  }
 },
 "nbformat": 4,
 "nbformat_minor": 5
}
