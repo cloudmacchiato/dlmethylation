{
 "cells": [
  {
   "cell_type": "code",
   "execution_count": 1,
   "id": "85eedf7f",
   "metadata": {},
   "outputs": [],
   "source": [
    "import os, torch\n",
    "import numpy as np\n",
    "import pandas as pd\n",
    "from torch import nn\n",
    "import torch.nn.functional as F\n",
    "from sklearn.preprocessing import MinMaxScaler\n",
    "import matplotlib.pyplot as plt"
   ]
  },
  {
   "cell_type": "code",
   "execution_count": 12,
   "id": "86269923-dabc-41d8-92a2-ff607a9d3de7",
   "metadata": {
    "tags": []
   },
   "outputs": [],
   "source": [
    "from dataPre import *"
   ]
  },
  {
   "cell_type": "markdown",
   "id": "1c8955cb",
   "metadata": {},
   "source": [
    "## Training (check the device first!)"
   ]
  },
  {
   "cell_type": "code",
   "execution_count": 13,
   "id": "c904f1f0",
   "metadata": {},
   "outputs": [],
   "source": [
    "from train import *"
   ]
  },
  {
   "cell_type": "code",
   "execution_count": 14,
   "id": "cc7bd102",
   "metadata": {},
   "outputs": [],
   "source": [
    "train = train_kfold(trainArgs)"
   ]
  },
  {
   "cell_type": "code",
   "execution_count": 15,
   "id": "8e58332b",
   "metadata": {},
   "outputs": [
    {
     "name": "stdout",
     "output_type": "stream",
     "text": [
      "****************************************************************************\n",
      "Fold 1 / 10\n",
      "****************************************************************************\n",
      "Validation AUC increased (0.000000 --> 0.971429).  Saving model ...\n",
      "Validation AUC increased (0.971429 --> 0.972857).  Saving model ...\n",
      "Validation AUC increased (0.972857 --> 0.977143).  Saving model ...\n",
      "Validation AUC increased (0.977143 --> 0.980000).  Saving model ...\n",
      "Validation AUC increased (0.980000 --> 0.982857).  Saving model ...\n",
      "Validation AUC increased (0.982857 --> 0.985714).  Saving model ...\n",
      "Validation AUC increased (0.985714 --> 0.988571).  Saving model ...\n",
      "Validation AUC increased (0.988571 --> 0.991429).  Saving model ...\n",
      "Validation AUC increased (0.991429 --> 0.992857).  Saving model ...\n",
      "****************************************************************************\n",
      "Fold 2 / 10\n",
      "****************************************************************************\n",
      "Validation AUC increased (0.000000 --> 0.942857).  Saving model ...\n",
      "Validation AUC increased (0.942857 --> 0.957143).  Saving model ...\n",
      "Validation AUC increased (0.957143 --> 0.961429).  Saving model ...\n",
      "Validation AUC increased (0.961429 --> 0.967143).  Saving model ...\n",
      "Validation AUC increased (0.967143 --> 0.972857).  Saving model ...\n",
      "Validation AUC increased (0.972857 --> 0.978571).  Saving model ...\n",
      "Validation AUC increased (0.978571 --> 0.980000).  Saving model ...\n",
      "Validation AUC increased (0.980000 --> 0.984286).  Saving model ...\n",
      "Validation AUC increased (0.984286 --> 0.992857).  Saving model ...\n",
      "Validation AUC increased (0.992857 --> 0.994286).  Saving model ...\n",
      "Validation AUC increased (0.994286 --> 0.995714).  Saving model ...\n",
      "Validation AUC increased (0.995714 --> 0.997143).  Saving model ...\n",
      "****************************************************************************\n",
      "Fold 3 / 10\n",
      "****************************************************************************\n",
      "Validation AUC increased (0.000000 --> 0.920000).  Saving model ...\n",
      "Validation AUC increased (0.920000 --> 0.948571).  Saving model ...\n",
      "Validation AUC increased (0.948571 --> 0.964286).  Saving model ...\n",
      "Validation AUC increased (0.964286 --> 0.968571).  Saving model ...\n",
      "Validation AUC increased (0.968571 --> 0.975714).  Saving model ...\n",
      "Validation AUC increased (0.975714 --> 0.978571).  Saving model ...\n",
      "Validation AUC increased (0.978571 --> 0.981429).  Saving model ...\n",
      "Validation AUC increased (0.981429 --> 0.984286).  Saving model ...\n",
      "Validation AUC increased (0.984286 --> 0.985714).  Saving model ...\n",
      "Validation AUC increased (0.985714 --> 0.988571).  Saving model ...\n",
      "Validation AUC increased (0.988571 --> 0.990000).  Saving model ...\n",
      "Validation AUC increased (0.990000 --> 0.992857).  Saving model ...\n",
      "Validation AUC increased (0.992857 --> 0.994286).  Saving model ...\n",
      "****************************************************************************\n",
      "Fold 4 / 10\n",
      "****************************************************************************\n",
      "Validation AUC increased (0.000000 --> 0.937143).  Saving model ...\n",
      "Validation AUC increased (0.937143 --> 0.944286).  Saving model ...\n",
      "Validation AUC increased (0.944286 --> 0.945714).  Saving model ...\n",
      "Validation AUC increased (0.945714 --> 0.951429).  Saving model ...\n",
      "Validation AUC increased (0.951429 --> 0.955714).  Saving model ...\n",
      "Validation AUC increased (0.955714 --> 0.958571).  Saving model ...\n",
      "Validation AUC increased (0.958571 --> 0.958571).  Saving model ...\n",
      "Validation AUC increased (0.958571 --> 0.970000).  Saving model ...\n",
      "Validation AUC increased (0.970000 --> 0.977143).  Saving model ...\n",
      "Validation AUC increased (0.977143 --> 0.981429).  Saving model ...\n",
      "****************************************************************************\n",
      "Fold 5 / 10\n",
      "****************************************************************************\n",
      "Validation AUC increased (0.000000 --> 0.924286).  Saving model ...\n",
      "Validation AUC increased (0.924286 --> 0.937143).  Saving model ...\n",
      "Validation AUC increased (0.937143 --> 0.951429).  Saving model ...\n",
      "Validation AUC increased (0.951429 --> 0.957143).  Saving model ...\n",
      "Validation AUC increased (0.957143 --> 0.962857).  Saving model ...\n",
      "Validation AUC increased (0.962857 --> 0.962857).  Saving model ...\n",
      "Validation AUC increased (0.962857 --> 0.965714).  Saving model ...\n",
      "Validation AUC increased (0.965714 --> 0.970000).  Saving model ...\n",
      "****************************************************************************\n",
      "Fold 6 / 10\n",
      "****************************************************************************\n",
      "Validation AUC increased (0.000000 --> 0.910000).  Saving model ...\n",
      "Validation AUC increased (0.910000 --> 0.955714).  Saving model ...\n",
      "Validation AUC increased (0.955714 --> 0.962857).  Saving model ...\n",
      "Validation AUC increased (0.962857 --> 0.974286).  Saving model ...\n",
      "Validation AUC increased (0.974286 --> 0.978571).  Saving model ...\n",
      "Validation AUC increased (0.978571 --> 0.982857).  Saving model ...\n",
      "Validation AUC increased (0.982857 --> 0.984286).  Saving model ...\n",
      "Validation AUC increased (0.984286 --> 0.985714).  Saving model ...\n",
      "Validation AUC increased (0.985714 --> 0.987143).  Saving model ...\n",
      "Validation AUC increased (0.987143 --> 0.988571).  Saving model ...\n",
      "****************************************************************************\n",
      "Fold 7 / 10\n",
      "****************************************************************************\n",
      "Validation AUC increased (0.000000 --> 0.881429).  Saving model ...\n",
      "Validation AUC increased (0.881429 --> 0.884286).  Saving model ...\n",
      "Validation AUC increased (0.884286 --> 0.914286).  Saving model ...\n",
      "Validation AUC increased (0.914286 --> 0.948571).  Saving model ...\n",
      "Validation AUC increased (0.948571 --> 0.965714).  Saving model ...\n",
      "Validation AUC increased (0.965714 --> 0.972857).  Saving model ...\n",
      "Validation AUC increased (0.972857 --> 0.987143).  Saving model ...\n",
      "Validation AUC increased (0.987143 --> 0.992857).  Saving model ...\n",
      "Validation AUC increased (0.992857 --> 0.994286).  Saving model ...\n",
      "Validation AUC increased (0.994286 --> 0.998571).  Saving model ...\n",
      "Validation AUC increased (0.998571 --> 1.000000).  Saving model ...\n",
      "****************************************************************************\n",
      "Fold 8 / 10\n",
      "****************************************************************************\n",
      "Validation AUC increased (0.000000 --> 0.915714).  Saving model ...\n",
      "Validation AUC increased (0.915714 --> 0.961429).  Saving model ...\n",
      "Validation AUC increased (0.961429 --> 0.981429).  Saving model ...\n",
      "Validation AUC increased (0.981429 --> 0.981429).  Saving model ...\n",
      "Validation AUC increased (0.981429 --> 0.992857).  Saving model ...\n",
      "Validation AUC increased (0.992857 --> 0.997143).  Saving model ...\n",
      "Validation AUC increased (0.997143 --> 1.000000).  Saving model ...\n",
      "****************************************************************************\n",
      "Fold 9 / 10\n",
      "****************************************************************************\n",
      "Validation AUC increased (0.000000 --> 0.818571).  Saving model ...\n",
      "Validation AUC increased (0.818571 --> 0.822857).  Saving model ...\n",
      "Validation AUC increased (0.822857 --> 0.834286).  Saving model ...\n",
      "Validation AUC increased (0.834286 --> 0.857143).  Saving model ...\n",
      "Validation AUC increased (0.857143 --> 0.882857).  Saving model ...\n",
      "Validation AUC increased (0.882857 --> 0.885714).  Saving model ...\n",
      "Validation AUC increased (0.885714 --> 0.894286).  Saving model ...\n",
      "Validation AUC increased (0.894286 --> 0.908571).  Saving model ...\n",
      "Validation AUC increased (0.908571 --> 0.912857).  Saving model ...\n",
      "Validation AUC increased (0.912857 --> 0.924286).  Saving model ...\n",
      "Validation AUC increased (0.924286 --> 0.925714).  Saving model ...\n",
      "Validation AUC increased (0.925714 --> 0.931429).  Saving model ...\n",
      "Validation AUC increased (0.931429 --> 0.937143).  Saving model ...\n",
      "Validation AUC increased (0.937143 --> 0.941429).  Saving model ...\n",
      "Validation AUC increased (0.941429 --> 0.942857).  Saving model ...\n",
      "Validation AUC increased (0.942857 --> 0.944286).  Saving model ...\n",
      "Validation AUC increased (0.944286 --> 0.950000).  Saving model ...\n",
      "****************************************************************************\n",
      "Fold 10 / 10\n",
      "****************************************************************************\n",
      "Validation AUC increased (0.000000 --> 0.925714).  Saving model ...\n",
      "Validation AUC increased (0.925714 --> 0.952857).  Saving model ...\n",
      "Validation AUC increased (0.952857 --> 0.960000).  Saving model ...\n",
      "Validation AUC increased (0.960000 --> 0.964286).  Saving model ...\n",
      "Validation AUC increased (0.964286 --> 0.970000).  Saving model ...\n",
      "Validation AUC increased (0.970000 --> 0.975714).  Saving model ...\n",
      "Validation AUC increased (0.975714 --> 0.980000).  Saving model ...\n",
      "Validation AUC increased (0.980000 --> 0.987143).  Saving model ...\n",
      "Validation AUC increased (0.987143 --> 0.988571).  Saving model ...\n",
      "Validation AUC increased (0.988571 --> 0.990000).  Saving model ...\n",
      "Validation AUC increased (0.990000 --> 0.995714).  Saving model ...\n",
      "Validation AUC increased (0.995714 --> 1.000000).  Saving model ...\n"
     ]
    }
   ],
   "source": [
    "result = train.kfold()"
   ]
  },
  {
   "cell_type": "code",
   "execution_count": 21,
   "id": "776d124f-85b1-41c0-9dae-4a56bef506b9",
   "metadata": {
    "tags": []
   },
   "outputs": [
    {
     "name": "stdout",
     "output_type": "stream",
     "text": [
      "Directory '../../results/' created.\n"
     ]
    }
   ],
   "source": [
    "directory_path = \"../../results/\"\n",
    "if not os.path.exists(directory_path):\n",
    "    os.makedirs(directory_path)\n",
    "    print(f\"Directory '{directory_path}' created.\")\n",
    "else:\n",
    "    print(f\"Directory '{directory_path}' already exists.\")"
   ]
  },
  {
   "cell_type": "code",
   "execution_count": 22,
   "id": "320c2eec",
   "metadata": {
    "tags": []
   },
   "outputs": [],
   "source": [
    "result.to_csv(\"../../results/test_result.csv\", mode='w')"
   ]
  },
  {
   "cell_type": "code",
   "execution_count": 17,
   "id": "7fd20c35-74e8-4546-93e4-da9023a95495",
   "metadata": {
    "tags": []
   },
   "outputs": [
    {
     "name": "stdout",
     "output_type": "stream",
     "text": [
      "****************************************************************************\n",
      ">>[Test Result] avg.auc : 0.9708, f1 : 0.9670\n",
      "\n"
     ]
    }
   ],
   "source": [
    "idx = result.groupby(['Fold'])['Valid_AUC'].transform(max) == result['Valid_AUC']\n",
    "result = result[idx]\n",
    "print('****************************************************************************')\n",
    "print(\">>[Test Result] avg.auc : {:.4f}, f1 : {:.4f}\\n\".format(result['Test_AUC'].mean(), result['Test_F1'].mean()))"
   ]
  }
 ],
 "metadata": {
  "kernelspec": {
   "display_name": "torch2",
   "language": "python",
   "name": "torch"
  },
  "language_info": {
   "codemirror_mode": {
    "name": "ipython",
    "version": 3
   },
   "file_extension": ".py",
   "mimetype": "text/x-python",
   "name": "python",
   "nbconvert_exporter": "python",
   "pygments_lexer": "ipython3",
   "version": "3.8.17"
  }
 },
 "nbformat": 4,
 "nbformat_minor": 5
}
